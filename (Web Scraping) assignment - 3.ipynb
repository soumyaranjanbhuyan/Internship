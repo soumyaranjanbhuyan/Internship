{
 "cells": [
  {
   "cell_type": "markdown",
   "id": "7cc40fb8",
   "metadata": {},
   "source": [
    "# Question - 1 , 2\n"
   ]
  },
  {
   "cell_type": "code",
   "execution_count": 1,
   "id": "adeb95fa",
   "metadata": {},
   "outputs": [],
   "source": [
    "#import all the required libraries\n"
   ]
  },
  {
   "cell_type": "code",
   "execution_count": 126,
   "id": "d6054efa",
   "metadata": {},
   "outputs": [],
   "source": [
    "import selenium\n",
    "import  pandas as pd\n",
    "import warnings\n",
    "warnings.filterwarnings('ignore')\n",
    "from selenium.common.exceptions import StaleElementReferenceException, NoSuchElementException\n",
    "from selenium.webdriver.common.by import By\n",
    "import time\n",
    "import re\n",
    "from selenium import webdriver\n"
   ]
  },
  {
   "cell_type": "code",
   "execution_count": 72,
   "id": "b58c6d35",
   "metadata": {},
   "outputs": [
    {
     "name": "stdout",
     "output_type": "stream",
     "text": [
      "enter the product name ?? headphone\n"
     ]
    }
   ],
   "source": [
    "driver = webdriver.Chrome('chromedriver.exe')\n",
    "driver.get('https://www.amazon.in/')\n",
    "enter = input('enter the product name ?? ') # lets enter headphone"
   ]
  },
  {
   "cell_type": "code",
   "execution_count": 73,
   "id": "c897e9f8",
   "metadata": {},
   "outputs": [],
   "source": [
    "search_bar = driver.find_elements(By.ID, \"twotabsearchtextbox\")    # Finding the search bar using it's xpath\n",
    "search_bar[0].send_keys(enter)"
   ]
  },
  {
   "cell_type": "code",
   "execution_count": 74,
   "id": "40167651",
   "metadata": {},
   "outputs": [],
   "source": [
    "search_button = driver.find_elements(By.XPATH,'//*[@id=\"nav-search-submit-button\"]')    # Finding the xpath of search button\n",
    "search_button[0].click() "
   ]
  },
  {
   "cell_type": "code",
   "execution_count": 75,
   "id": "72645c66",
   "metadata": {},
   "outputs": [
    {
     "name": "stdout",
     "output_type": "stream",
     "text": [
      "24 ['boAt Rockerz 558 Bluetooth Wireless Over Ear Headphones with Mic Upto 20 Hours Playback, 50MM Drivers, Soft Padded Ear Cushions and Physical Noise Isolation(Army Green)', 'Sennheiser PC 8.2 Wired On Ear Headphones with Mic (Black)', 'boAt Rockerz 450 Bluetooth On Ear Headphones with Mic, Upto 15 Hours Playback, 40MM Drivers, Padded Ear Cushions, Integrated Controls and Dual Modes(Luscious Black)', 'JBL C100SI Wired In Ear Headphones with Mic, JBL Pure Bass Sound, One Button Multi-function Remote, Angled Buds for Comfort fit (Black)', 'boAt Rockerz 558 Bluetooth Wireless Over Ear Headphones with Mic Upto 20 Hours Playback, 50MM Drivers, Soft Padded Ear Cushions and Physical Noise Isolation(Army Green)', 'Belkin SoundForm Mini On-Ear Wireless Bluetooth Headphones for Kids with Built in Microphone - Pink', 'Logitech H111 Wired On Ear Headphones With Mic Black', 'ZEBRONICS Zeb-Thunder Bluetooth Wireless Over The Ear Headphone FM, mSD, 9 hrs Playback with Mic (Blue with Red)', 'boAt Rockerz 450 Bluetooth On Ear Headphones with Mic, Upto 15 Hours Playback, 40MM Drivers, Padded Ear Cushions, Integrated Controls and Dual Modes(Hazel Beige)', 'boAt Airdopes 141 Bluetooth Truly Wireless in Ear Headphones with 42H Playtime, Beast Mode(Low Latency Upto 80ms) for Gaming, ENx Tech, IWP, IPX4 Water Resistance, Smooth Touch Controls(Cyan Cider)', 'Sony WH-CH520, Wireless On-Ear Bluetooth Headphones with Mic, Upto 50 Hours Playtime, DSEE Upscale, Multipoint Connectivity/Dual Pairing,Voice Assistant App Support for Mobile Phones (Blue)', 'boAt Rockerz 450 Bluetooth On Ear Headphones with Mic, Upto 15 Hours Playback, 40MM Drivers, Padded Ear Cushions, Integrated Controls and Dual Modes(Hazel Beige)', 'TOZO T6 True Wireless Earbuds Bluetooth 5.3 Headphones 45H Playtime with Wireless Charging Case, IPX8 Waterproof, OrigX Premium Sound Tech, Touch Control in-Ear Earphones Deep Bass with Mic Black', 'boAt Rockerz 400 Bluetooth On Ear Headphones With Mic With Upto 8 Hours Playback & Soft Padded Ear Cushions(Grey/Green)', 'PTron Tangentbeat in-Ear Bluetooth 5.0 Wireless Headphones with Mic, Deep Bass, 10mm Drivers, Clear Calls, Snug-Fit, Fast Charging, Magnetic Buds, Voice Assistant & IPX4 Wireless Neckband (Black)', 'Zebronics-Bang over the ear headphones with Foldable Design and Bluetooth v5.0 headphones, Providing up to 20h* Playback(Blue)', 'Infinity (JBL Glide 510, 72 Hrs Playtime with Quick Charge, Wireless On Ear Headphone with Mic, Deep Bass, Dual Equalizer, Bluetooth 5.0 with Voice Assistant Support (Black)', 'JBL C50HI, Wired in Ear Headphones with Mic, One Button Multi-Function Remote, Lightweight & Comfortable fit (Black)', 'ZEBRONICS Zeb-Bro in Ear Wired Earphones with Mic, 3.5mm Audio Jack, 10mm Drivers, Phone/Tablet Compatible(Black)', 'boAt Bassheads 220 Wired in Ear Earphones(Indi Lime)', 'Philips Audio TAH4205XTBK/00 Bluetooth 5.0, Bass Booster, Quick Charging Upto 29H Playtime, 32mm Driver, Compact Folding Design Bluetooth Wireless On Ear Headphones With Mic (Black)', 'boAt Rockerz 400 Bluetooth On Ear Headphones with Mic with Upto 8 Hours Playback & Soft Padded Ear Cushions(Black/Red)', 'pTron Bassbuds Duo in Ear Earbuds with 32Hrs Total Playtime, Bluetooth 5.1 Wireless Headphones, Stereo Audio, Touch Control TWS, with Mic, Type-C Fast Charging, IPX4 & Voice Assistance (Black)', 'FIFINE Gaming On Ear Headset for PC-Wired Headphones with Microphone-7.1 Surround Sound Computer USB for Laptop, Streaming Headphones on PS4/PS5, with EQ Mode, RGB, Soft Ear Pads AmpliGame H6 (Black)']\n"
     ]
    }
   ],
   "source": [
    "productName = []\n",
    "#scraping the Product_Name \n",
    "PName=driver.find_elements(By.XPATH, \"//span[@class='a-size-medium a-color-base a-text-normal']\")\n",
    "for i in PName:\n",
    "    if i.text is None :\n",
    "        productName.append(\"--\") \n",
    "    else:\n",
    "        productName.append(i.text)\n",
    "print(len(productName),productName)"
   ]
  },
  {
   "cell_type": "markdown",
   "id": "59987722",
   "metadata": {},
   "source": [
    "# Question - 2\n"
   ]
  },
  {
   "cell_type": "code",
   "execution_count": 77,
   "id": "9a7af6ed",
   "metadata": {
    "scrolled": true
   },
   "outputs": [
    {
     "name": "stdout",
     "output_type": "stream",
     "text": [
      "Product_urls have scraped of page 1 \n",
      "Product_urls have scraped of page 2 \n",
      "Product_urls have scraped of page 3 \n",
      "Product_urls have scraped of page 4 \n"
     ]
    }
   ],
   "source": [
    "start_page = 0\n",
    "end_page = 3\n",
    "urls = []\n",
    "for page in range(start_page,end_page+1):\n",
    "    try:\n",
    "        page_urls = driver.find_elements(By.XPATH,'//a[@class=\"a-link-normal s-no-outline\"]')\n",
    "        \n",
    "        # appending all the urls on current page to urls list\n",
    "        for url in page_urls:\n",
    "            url = url.get_attribute('href')     \n",
    "            if url[0:4]=='http':              \n",
    "                urls.append(url)                \n",
    "        print(\"Product_urls have scraped of page {} \".format(page+1))\n",
    "        \n",
    "        # Moving to next page\n",
    "        nxt_button = driver.find_elements(By.XPATH,'//li[@class=\"a-last\"]/a')\n",
    "        for i in nxt_button:\n",
    "            if nxt_button.text == 'Next':\n",
    "                nxt_button.click()                                               \n",
    "                time.sleep(5)                                                      \n",
    "        #we will check if the next button is inactive or not    \n",
    "            elif driver.find_elements(By.XPATH,'//li[@class=\"a-disabled a-last\"]/a').text == 'Next':\n",
    "                print(\"No new pages exist. Breaking the loop\")  \n",
    "                break\n",
    "            \n",
    "    except StaleElementReferenceException as e:          \n",
    "        print(\"Stale Exception\")\n",
    "        next_page = nxt_button.get_attribute('href')      \n",
    "        driver.get(next_page)                               "
   ]
  },
  {
   "cell_type": "markdown",
   "id": "90f53489",
   "metadata": {},
   "source": [
    "# Question - 3"
   ]
  },
  {
   "cell_type": "code",
   "execution_count": 78,
   "id": "c787e9e2",
   "metadata": {},
   "outputs": [],
   "source": [
    "driver = webdriver.Chrome('chromedriver.exe')\n",
    "driver.get('https://www.google.com/search?q=car&sxsrf=APwXEdfCuFKzSks5Csue5XB3vyyvklAt1w:1684163983499&source=lnms&tbm=isch&sa=X&ved=2ahUKEwiGievfz_f-AhUps1YBHSDDDJgQ_AUoAXoECAEQAw&biw=752&bih=698&dpr=1.25')"
   ]
  },
  {
   "cell_type": "code",
   "execution_count": 79,
   "id": "b1744150",
   "metadata": {},
   "outputs": [
    {
     "name": "stdout",
     "output_type": "stream",
     "text": [
      "10\n"
     ]
    }
   ],
   "source": [
    "for _ in range(10):\n",
    "    driver.execute_script(\"window.scrollBy(0,500)\")\n",
    "    \n",
    "images = driver.find_elements(By.XPATH, '//img[@class=\"rg_i Q4LuWd\"]')\n",
    "\n",
    "img_urls = []\n",
    "img_data = []\n",
    "for image in images:\n",
    "    source = image.get_attribute('src')\n",
    "    if source is not None:\n",
    "        if (source[0:4] == 'http'):\n",
    "            img_urls.append(source)\n",
    "print(len(img_urls))\n",
    "            \n",
    "            \n"
   ]
  },
  {
   "cell_type": "code",
   "execution_count": 80,
   "id": "02454374",
   "metadata": {},
   "outputs": [],
   "source": [
    "for i in range(len(img_urls)):\n",
    "    if i > 10:\n",
    "        break\n",
    "        print(\"downloading {} of {} images\".format(i, 10))\n",
    "        response = requests.get(img_urls[i])\n",
    "        file = open(r\"C:\\Users\\soumy\\OneDrive\\Documents\" +str(i)+\".jpg\", \"wb\")\n",
    "        file.write(response.content)"
   ]
  },
  {
   "cell_type": "code",
   "execution_count": null,
   "id": "d2ee4002",
   "metadata": {},
   "outputs": [],
   "source": []
  },
  {
   "cell_type": "markdown",
   "id": "e156c746",
   "metadata": {},
   "source": [
    "# Question - 4"
   ]
  },
  {
   "cell_type": "code",
   "execution_count": 21,
   "id": "b17d7918",
   "metadata": {},
   "outputs": [],
   "source": [
    "driver = webdriver.Chrome(r\"C:\\Users\\soumy\\Downloads\\chromedriver_win32\\chromedriver.exe\")\n",
    "url=\"https://www.flipkart.com/search?q=smartphone&otracker=search&otracker1=search&marketplace=FLIPKART&as-show=on&as=off\"\n",
    "driver.get(url)"
   ]
  },
  {
   "cell_type": "code",
   "execution_count": 22,
   "id": "b25214bf",
   "metadata": {},
   "outputs": [],
   "source": [
    "Brand_Name=[]\n",
    "Colour=[]\n",
    "Storage_ram_rom=[]\n",
    "Cam=[]\n",
    "Display=[]\n",
    "Processor=[]\n",
    "Battery=[]\n",
    "Price=[]"
   ]
  },
  {
   "cell_type": "code",
   "execution_count": 23,
   "id": "985d1076",
   "metadata": {},
   "outputs": [
    {
     "name": "stdout",
     "output_type": "stream",
     "text": [
      "24 ['realme C33 (Sandy Gold, 32 GB)', 'realme C33 (Night Sea, 64 GB)', 'realme C33 (Aqua Blue, 32 GB)', 'realme C33 (Aqua Blue, 64 GB)', 'realme C33 (Night Sea, 32 GB)', 'realme C33 (Sandy Gold, 64 GB)', 'SAMSUNG Galaxy F04 (Opal Green, 64 GB)', 'SAMSUNG Galaxy F13 (Nightsky Green, 64 GB)', 'POCO C51 (Royal Blue, 64 GB)', 'POCO C55 (Cool Blue, 128 GB)', 'POCO C55 (Cool Blue, 64 GB)', 'POCO C55 (Power Black, 64 GB)', 'POCO C51 (Power Black, 64 GB)', 'POCO X5 Pro 5G (Astral Black, 256 GB)', 'POCO C55 (Power Black, 128 GB)', 'MOTOROLA e13 (Aurora Green, 64 GB)', 'POCO C55 (Forest Green, 128 GB)', 'MOTOROLA G32 (Mineral Gray, 128 GB)', 'REDMI 10 (Midnight Black, 64 GB)', 'POCO C50 (Royal Blue, 32 GB)', 'POCO C55 (Forest Green, 64 GB)', 'Infinix SMART 7 (Emerald Green, 64 GB)', 'Infinix SMART 7 (Night Black, 64 GB)', 'Infinix SMART 7 (Azure Blue, 64 GB)']\n"
     ]
    }
   ],
   "source": [
    "#scraping the Brand_Name \n",
    "brand=driver.find_elements(By.XPATH, '//div[@class=\"_4rR01T\"]')\n",
    "for i in brand:\n",
    "    if i.text is None :\n",
    "        Brand_Name.append(\"--\") \n",
    "    else:\n",
    "        Brand_Name.append(i.text)\n",
    "print(len(Brand_Name),Brand_Name)"
   ]
  },
  {
   "cell_type": "code",
   "execution_count": 24,
   "id": "770c4a12",
   "metadata": {},
   "outputs": [
    {
     "name": "stdout",
     "output_type": "stream",
     "text": [
      "24 ['3 GB RAM | 32 GB ROM | Expandable Upto 1 TB', '4 GB RAM | 64 GB ROM | Expandable Upto 1 TB', '3 GB RAM | 32 GB ROM | Expandable Upto 1 TB', '4 GB RAM | 64 GB ROM | Expandable Upto 1 TB', '3 GB RAM | 32 GB ROM | Expandable Upto 1 TB', '4 GB RAM | 64 GB ROM | Expandable Upto 1 TB', '4 GB RAM | 64 GB ROM | Expandable Upto 1 TB', '4 GB RAM | 64 GB ROM | Expandable Upto 1 TB', '4 GB RAM | 64 GB ROM | Expandable Upto 1 TB', '6 GB RAM | 128 GB ROM | Expandable Upto 1 TB', '4 GB RAM | 64 GB ROM | Expandable Upto 1 TB', '4 GB RAM | 64 GB ROM | Expandable Upto 1 TB', '4 GB RAM | 64 GB ROM | Expandable Upto 1 TB', '8 GB RAM | 256 GB ROM', '6 GB RAM | 128 GB ROM | Expandable Upto 1 TB', '4 GB RAM | 64 GB ROM | Expandable Upto 1 TB', '6 GB RAM | 128 GB ROM | Expandable Upto 1 TB', '8 GB RAM | 128 GB ROM', '4 GB RAM | 64 GB ROM | Expandable Upto 1 TB', '2 GB RAM | 32 GB ROM | Expandable Upto 512 GB', '4 GB RAM | 64 GB ROM | Expandable Upto 1 TB', '4 GB RAM | 64 GB ROM | Expandable Upto 2 TB', '4 GB RAM | 64 GB ROM | Expandable Upto 2 TB', '4 GB RAM | 64 GB ROM | Expandable Upto 2 TB']\n"
     ]
    }
   ],
   "source": [
    "#scraping the storage, ram and rom\n",
    "ram=driver.find_elements(By.XPATH, \"//ul[@class='_1xgFaf']//li[1]\")\n",
    "for i in ram:\n",
    "    if i.text is None :\n",
    "        Storage_ram_rom.append(\"--\") \n",
    "    else:\n",
    "        Storage_ram_rom.append(i.text)\n",
    "print(len(Storage_ram_rom),Storage_ram_rom)"
   ]
  },
  {
   "cell_type": "code",
   "execution_count": 25,
   "id": "97685806",
   "metadata": {},
   "outputs": [
    {
     "name": "stdout",
     "output_type": "stream",
     "text": [
      "24 ['50MP + 0.3MP | 5MP Front Camera', '50MP + 0.3MP | 5MP Front Camera', '50MP + 0.3MP | 5MP Front Camera', '50MP + 0.3MP | 5MP Front Camera', '50MP + 0.3MP | 5MP Front Camera', '50MP + 0.3MP | 5MP Front Camera', '13MP + 2MP | 5MP Front Camera', '50MP + 5MP + 2MP | 8MP Front Camera', '8MP Rear Camera | 5MP Front Camera', '50MP Rear Camera | 5MP Front Camera', '50MP Rear Camera | 5MP Front Camera', '50MP Rear Camera | 5MP Front Camera', '8MP Rear Camera | 5MP Front Camera', '108MP + 8MP + 2MP | 16MP Front Camera', '50MP Rear Camera | 5MP Front Camera', '13MP Rear Camera | 5MP Front Camera', '50MP Rear Camera | 5MP Front Camera', '50MP + 8MP + 2MP | 16MP Front Camera', '50MP + 2MP | 5MP Front Camera', '8MP Dual Camera | 5MP Front Camera', '50MP Rear Camera | 5MP Front Camera', '13MP + AI Lens | 5MP Front Camera', '13MP + AI Lens | 5MP Front Camera', '13MP + AI Lens | 5MP Front Camera']\n"
     ]
    }
   ],
   "source": [
    "#scraping the P_F_Camera \n",
    "pix=driver.find_elements(By.XPATH,\"//ul[@class='_1xgFaf']//li[3]\")\n",
    "for i in pix:\n",
    "    if i.text is None :\n",
    "        Cam.append(\"--\") \n",
    "    else:\n",
    "        Cam.append(i.text)\n",
    "print(len(Cam),Cam)"
   ]
  },
  {
   "cell_type": "code",
   "execution_count": 26,
   "id": "0b377cd3",
   "metadata": {},
   "outputs": [
    {
     "name": "stdout",
     "output_type": "stream",
     "text": [
      "24 ['16.51 cm (6.5 inch) HD+ Display', '16.51 cm (6.5 inch) HD+ Display', '16.51 cm (6.5 inch) HD+ Display', '16.51 cm (6.5 inch) HD+ Display', '16.51 cm (6.5 inch) HD+ Display', '16.51 cm (6.5 inch) HD+ Display', '16.51 cm (6.5 inch) HD Display', '16.76 cm (6.6 inch) Full HD+ Display', '16.56 cm (6.52 inch) HD+ Display', '17.04 cm (6.71 inch) HD+ Display', '17.04 cm (6.71 inch) HD+ Display', '17.04 cm (6.71 inch) HD+ Display', '16.56 cm (6.52 inch) HD+ Display', '16.94 cm (6.67 inch) Full HD+ Display', '17.04 cm (6.71 inch) HD+ Display', '16.51 cm (6.5 inch) HD+ Display', '17.04 cm (6.71 inch) HD+ Display', '16.64 cm (6.55 inch) Full HD+ Display', '17.02 cm (6.7 inch) HD+ Display', '16.56 cm (6.52 inch) HD+ Display', '17.04 cm (6.71 inch) HD+ Display', '16.76 cm (6.6 inch) HD+ Display', '16.76 cm (6.6 inch) HD+ Display', '16.76 cm (6.6 inch) HD+ Display']\n"
     ]
    }
   ],
   "source": [
    "#scraping the Display_size_Resolution \n",
    "dis=driver.find_elements(By.XPATH,\"//ul[@class='_1xgFaf']//li[2]\")\n",
    "for i in dis:\n",
    "    if i.text is None :\n",
    "        Display.append(\"--\") \n",
    "    else:\n",
    "        Display.append(i.text)\n",
    "print(len(Display),Display)"
   ]
  },
  {
   "cell_type": "code",
   "execution_count": 27,
   "id": "e3073e83",
   "metadata": {},
   "outputs": [
    {
     "name": "stdout",
     "output_type": "stream",
     "text": [
      "24 ['Unisoc T612 Processor', 'Unisoc T612 Processor', 'Unisoc T612 Processor', 'Unisoc T612 Processor', 'Unisoc T612 Processor', 'Unisoc T612 Processor', 'Mediatek Helio P35 Processor', 'Exynos 850 Processor', 'Helio G36 Processor', 'Mediatek Helio G85 Processor', 'Mediatek Helio G85 Processor', 'Mediatek Helio G85 Processor', 'Helio G36 Processor', 'Qualcomm Snapdragon 778G Processor', 'Mediatek Helio G85 Processor', 'Unisoc T606 Processor', 'Mediatek Helio G85 Processor', 'Qualcomm Snapdragon 680 Processor', 'Qualcomm Snapdragon 680 Processor', 'Mediatek Helio A22 Processor, Upto 2.0 GHz Processor', 'Mediatek Helio G85 Processor', 'Unisoc Spreadtrum SC9863A1 Processor', 'Unisoc Spreadtrum SC9863A1 Processor', 'Unisoc Spreadtrum SC9863A1 Processor']\n"
     ]
    }
   ],
   "source": [
    "#scraping the ProcessorAndCores \n",
    "P=driver.find_elements(By.XPATH,\"//ul[@class='_1xgFaf']//li[5]\")\n",
    "for i in P:\n",
    "    if i.text is None :\n",
    "        Processor.append(\"--\") \n",
    "    else:\n",
    "        Processor.append(i.text)\n",
    "print(len(Processor),Processor)"
   ]
  },
  {
   "cell_type": "code",
   "execution_count": 28,
   "id": "975159fb",
   "metadata": {},
   "outputs": [
    {
     "name": "stdout",
     "output_type": "stream",
     "text": [
      "24 ['5000 mAh Lithium Ion Battery', '5000 mAh Lithium Ion Battery', '5000 mAh Lithium Ion Battery', '5000 mAh Lithium Ion Battery', '5000 mAh Lithium Ion Battery', '5000 mAh Lithium Ion Battery', '5000 mAh Lithium-Ion Battery', '6000 mAh Lithium Ion Battery', '5000 mAh Battery', '5000 mAh Battery', '5000 mAh Battery', '5000 mAh Battery', '5000 mAh Battery', '5000 mAh Battery', '5000 mAh Battery', '5000 mAh Battery', '5000 mAh Battery', '5000 mAh Battery', '6000 mAh Lithium Polymer Battery', '5000 mAh Lithium Polymer Battery', '5000 mAh Battery', '6000 mAh Battery', '6000 mAh Battery', '6000 mAh Battery']\n"
     ]
    }
   ],
   "source": [
    "#scraping the Battery \n",
    "bat=driver.find_elements(By.XPATH,\"//ul[@class='_1xgFaf']//li[4]\")\n",
    "for i in bat:\n",
    "    if i.text is None :\n",
    "        Battery.append(\"--\") \n",
    "    else:\n",
    "        Battery.append(i.text)\n",
    "print(len(Battery),Battery)"
   ]
  },
  {
   "cell_type": "code",
   "execution_count": 29,
   "id": "5346acc8",
   "metadata": {},
   "outputs": [
    {
     "name": "stdout",
     "output_type": "stream",
     "text": [
      "24 ['₹8,999', '₹9,999', '₹8,999', '₹9,999', '₹8,999', '₹9,999', '₹8,499', '₹10,999', '₹7,749', '₹9,499', '₹7,999', '₹7,999', '₹7,749', '₹24,999', '₹9,499', '₹7,499', '₹9,499', '₹11,999', '₹9,499', '₹6,499', '₹7,999', '₹7,299', '₹7,299', '₹7,299']\n"
     ]
    }
   ],
   "source": [
    "#scraping the Price \n",
    "price=driver.find_elements(By.XPATH,\"//div[@class='_30jeq3 _1_WHN1']\")\n",
    "for i in price:\n",
    "    if i.text is None :\n",
    "        Price.append(\"--\") \n",
    "    else:\n",
    "        Price.append(i.text)\n",
    "print(len(Price),Price)"
   ]
  },
  {
   "cell_type": "code",
   "execution_count": 30,
   "id": "4913a906",
   "metadata": {},
   "outputs": [],
   "source": [
    "df = pd.DataFrame({\n",
    "    'Brand_Name': brand,\n",
    "    'Storage': Storage_ram_rom,\n",
    "    \n",
    "'Cam': Cam, \n",
    "'Display': Display, \n",
    "'Processor': Processor,\n",
    "'Battery': Battery,\n",
    "'Price': price\n",
    "})"
   ]
  },
  {
   "cell_type": "code",
   "execution_count": 31,
   "id": "b9981603",
   "metadata": {},
   "outputs": [
    {
     "data": {
      "text/html": [
       "<div>\n",
       "<style scoped>\n",
       "    .dataframe tbody tr th:only-of-type {\n",
       "        vertical-align: middle;\n",
       "    }\n",
       "\n",
       "    .dataframe tbody tr th {\n",
       "        vertical-align: top;\n",
       "    }\n",
       "\n",
       "    .dataframe thead th {\n",
       "        text-align: right;\n",
       "    }\n",
       "</style>\n",
       "<table border=\"1\" class=\"dataframe\">\n",
       "  <thead>\n",
       "    <tr style=\"text-align: right;\">\n",
       "      <th></th>\n",
       "      <th>Brand_Name</th>\n",
       "      <th>Storage</th>\n",
       "      <th>Camera</th>\n",
       "      <th>Display</th>\n",
       "      <th>Processor</th>\n",
       "      <th>Battery</th>\n",
       "      <th>Price</th>\n",
       "    </tr>\n",
       "  </thead>\n",
       "  <tbody>\n",
       "    <tr>\n",
       "      <th>0</th>\n",
       "      <td>realme C33 (Sandy Gold, 32 GB)</td>\n",
       "      <td>3 GB RAM | 32 GB ROM | Expandable Upto 1 TB</td>\n",
       "      <td>50MP + 0.3MP | 5MP Front Camera</td>\n",
       "      <td>16.51 cm (6.5 inch) HD+ Display</td>\n",
       "      <td>Unisoc T612 Processor</td>\n",
       "      <td>5000 mAh Lithium Ion Battery</td>\n",
       "      <td>&lt;selenium.webdriver.remote.webelement.WebEleme...</td>\n",
       "    </tr>\n",
       "    <tr>\n",
       "      <th>1</th>\n",
       "      <td>realme C33 (Night Sea, 64 GB)</td>\n",
       "      <td>4 GB RAM | 64 GB ROM | Expandable Upto 1 TB</td>\n",
       "      <td>50MP + 0.3MP | 5MP Front Camera</td>\n",
       "      <td>16.51 cm (6.5 inch) HD+ Display</td>\n",
       "      <td>Unisoc T612 Processor</td>\n",
       "      <td>5000 mAh Lithium Ion Battery</td>\n",
       "      <td>&lt;selenium.webdriver.remote.webelement.WebEleme...</td>\n",
       "    </tr>\n",
       "    <tr>\n",
       "      <th>2</th>\n",
       "      <td>realme C33 (Aqua Blue, 32 GB)</td>\n",
       "      <td>3 GB RAM | 32 GB ROM | Expandable Upto 1 TB</td>\n",
       "      <td>50MP + 0.3MP | 5MP Front Camera</td>\n",
       "      <td>16.51 cm (6.5 inch) HD+ Display</td>\n",
       "      <td>Unisoc T612 Processor</td>\n",
       "      <td>5000 mAh Lithium Ion Battery</td>\n",
       "      <td>&lt;selenium.webdriver.remote.webelement.WebEleme...</td>\n",
       "    </tr>\n",
       "    <tr>\n",
       "      <th>3</th>\n",
       "      <td>realme C33 (Aqua Blue, 64 GB)</td>\n",
       "      <td>4 GB RAM | 64 GB ROM | Expandable Upto 1 TB</td>\n",
       "      <td>50MP + 0.3MP | 5MP Front Camera</td>\n",
       "      <td>16.51 cm (6.5 inch) HD+ Display</td>\n",
       "      <td>Unisoc T612 Processor</td>\n",
       "      <td>5000 mAh Lithium Ion Battery</td>\n",
       "      <td>&lt;selenium.webdriver.remote.webelement.WebEleme...</td>\n",
       "    </tr>\n",
       "    <tr>\n",
       "      <th>4</th>\n",
       "      <td>realme C33 (Night Sea, 32 GB)</td>\n",
       "      <td>3 GB RAM | 32 GB ROM | Expandable Upto 1 TB</td>\n",
       "      <td>50MP + 0.3MP | 5MP Front Camera</td>\n",
       "      <td>16.51 cm (6.5 inch) HD+ Display</td>\n",
       "      <td>Unisoc T612 Processor</td>\n",
       "      <td>5000 mAh Lithium Ion Battery</td>\n",
       "      <td>&lt;selenium.webdriver.remote.webelement.WebEleme...</td>\n",
       "    </tr>\n",
       "    <tr>\n",
       "      <th>5</th>\n",
       "      <td>realme C33 (Sandy Gold, 64 GB)</td>\n",
       "      <td>4 GB RAM | 64 GB ROM | Expandable Upto 1 TB</td>\n",
       "      <td>50MP + 0.3MP | 5MP Front Camera</td>\n",
       "      <td>16.51 cm (6.5 inch) HD+ Display</td>\n",
       "      <td>Unisoc T612 Processor</td>\n",
       "      <td>5000 mAh Lithium Ion Battery</td>\n",
       "      <td>&lt;selenium.webdriver.remote.webelement.WebEleme...</td>\n",
       "    </tr>\n",
       "    <tr>\n",
       "      <th>6</th>\n",
       "      <td>SAMSUNG Galaxy F04 (Opal Green, 64 GB)</td>\n",
       "      <td>4 GB RAM | 64 GB ROM | Expandable Upto 1 TB</td>\n",
       "      <td>13MP + 2MP | 5MP Front Camera</td>\n",
       "      <td>16.51 cm (6.5 inch) HD Display</td>\n",
       "      <td>Mediatek Helio P35 Processor</td>\n",
       "      <td>5000 mAh Lithium-Ion Battery</td>\n",
       "      <td>&lt;selenium.webdriver.remote.webelement.WebEleme...</td>\n",
       "    </tr>\n",
       "    <tr>\n",
       "      <th>7</th>\n",
       "      <td>SAMSUNG Galaxy F13 (Nightsky Green, 64 GB)</td>\n",
       "      <td>4 GB RAM | 64 GB ROM | Expandable Upto 1 TB</td>\n",
       "      <td>50MP + 5MP + 2MP | 8MP Front Camera</td>\n",
       "      <td>16.76 cm (6.6 inch) Full HD+ Display</td>\n",
       "      <td>Exynos 850 Processor</td>\n",
       "      <td>6000 mAh Lithium Ion Battery</td>\n",
       "      <td>&lt;selenium.webdriver.remote.webelement.WebEleme...</td>\n",
       "    </tr>\n",
       "    <tr>\n",
       "      <th>8</th>\n",
       "      <td>POCO C51 (Royal Blue, 64 GB)</td>\n",
       "      <td>4 GB RAM | 64 GB ROM | Expandable Upto 1 TB</td>\n",
       "      <td>8MP Rear Camera | 5MP Front Camera</td>\n",
       "      <td>16.56 cm (6.52 inch) HD+ Display</td>\n",
       "      <td>Helio G36 Processor</td>\n",
       "      <td>5000 mAh Battery</td>\n",
       "      <td>&lt;selenium.webdriver.remote.webelement.WebEleme...</td>\n",
       "    </tr>\n",
       "    <tr>\n",
       "      <th>9</th>\n",
       "      <td>POCO C55 (Cool Blue, 128 GB)</td>\n",
       "      <td>6 GB RAM | 128 GB ROM | Expandable Upto 1 TB</td>\n",
       "      <td>50MP Rear Camera | 5MP Front Camera</td>\n",
       "      <td>17.04 cm (6.71 inch) HD+ Display</td>\n",
       "      <td>Mediatek Helio G85 Processor</td>\n",
       "      <td>5000 mAh Battery</td>\n",
       "      <td>&lt;selenium.webdriver.remote.webelement.WebEleme...</td>\n",
       "    </tr>\n",
       "    <tr>\n",
       "      <th>10</th>\n",
       "      <td>POCO C55 (Cool Blue, 64 GB)</td>\n",
       "      <td>4 GB RAM | 64 GB ROM | Expandable Upto 1 TB</td>\n",
       "      <td>50MP Rear Camera | 5MP Front Camera</td>\n",
       "      <td>17.04 cm (6.71 inch) HD+ Display</td>\n",
       "      <td>Mediatek Helio G85 Processor</td>\n",
       "      <td>5000 mAh Battery</td>\n",
       "      <td>&lt;selenium.webdriver.remote.webelement.WebEleme...</td>\n",
       "    </tr>\n",
       "    <tr>\n",
       "      <th>11</th>\n",
       "      <td>POCO C55 (Power Black, 64 GB)</td>\n",
       "      <td>4 GB RAM | 64 GB ROM | Expandable Upto 1 TB</td>\n",
       "      <td>50MP Rear Camera | 5MP Front Camera</td>\n",
       "      <td>17.04 cm (6.71 inch) HD+ Display</td>\n",
       "      <td>Mediatek Helio G85 Processor</td>\n",
       "      <td>5000 mAh Battery</td>\n",
       "      <td>&lt;selenium.webdriver.remote.webelement.WebEleme...</td>\n",
       "    </tr>\n",
       "    <tr>\n",
       "      <th>12</th>\n",
       "      <td>POCO C51 (Power Black, 64 GB)</td>\n",
       "      <td>4 GB RAM | 64 GB ROM | Expandable Upto 1 TB</td>\n",
       "      <td>8MP Rear Camera | 5MP Front Camera</td>\n",
       "      <td>16.56 cm (6.52 inch) HD+ Display</td>\n",
       "      <td>Helio G36 Processor</td>\n",
       "      <td>5000 mAh Battery</td>\n",
       "      <td>&lt;selenium.webdriver.remote.webelement.WebEleme...</td>\n",
       "    </tr>\n",
       "    <tr>\n",
       "      <th>13</th>\n",
       "      <td>POCO X5 Pro 5G (Astral Black, 256 GB)</td>\n",
       "      <td>8 GB RAM | 256 GB ROM</td>\n",
       "      <td>108MP + 8MP + 2MP | 16MP Front Camera</td>\n",
       "      <td>16.94 cm (6.67 inch) Full HD+ Display</td>\n",
       "      <td>Qualcomm Snapdragon 778G Processor</td>\n",
       "      <td>5000 mAh Battery</td>\n",
       "      <td>&lt;selenium.webdriver.remote.webelement.WebEleme...</td>\n",
       "    </tr>\n",
       "    <tr>\n",
       "      <th>14</th>\n",
       "      <td>POCO C55 (Power Black, 128 GB)</td>\n",
       "      <td>6 GB RAM | 128 GB ROM | Expandable Upto 1 TB</td>\n",
       "      <td>50MP Rear Camera | 5MP Front Camera</td>\n",
       "      <td>17.04 cm (6.71 inch) HD+ Display</td>\n",
       "      <td>Mediatek Helio G85 Processor</td>\n",
       "      <td>5000 mAh Battery</td>\n",
       "      <td>&lt;selenium.webdriver.remote.webelement.WebEleme...</td>\n",
       "    </tr>\n",
       "    <tr>\n",
       "      <th>15</th>\n",
       "      <td>MOTOROLA e13 (Aurora Green, 64 GB)</td>\n",
       "      <td>4 GB RAM | 64 GB ROM | Expandable Upto 1 TB</td>\n",
       "      <td>13MP Rear Camera | 5MP Front Camera</td>\n",
       "      <td>16.51 cm (6.5 inch) HD+ Display</td>\n",
       "      <td>Unisoc T606 Processor</td>\n",
       "      <td>5000 mAh Battery</td>\n",
       "      <td>&lt;selenium.webdriver.remote.webelement.WebEleme...</td>\n",
       "    </tr>\n",
       "    <tr>\n",
       "      <th>16</th>\n",
       "      <td>POCO C55 (Forest Green, 128 GB)</td>\n",
       "      <td>6 GB RAM | 128 GB ROM | Expandable Upto 1 TB</td>\n",
       "      <td>50MP Rear Camera | 5MP Front Camera</td>\n",
       "      <td>17.04 cm (6.71 inch) HD+ Display</td>\n",
       "      <td>Mediatek Helio G85 Processor</td>\n",
       "      <td>5000 mAh Battery</td>\n",
       "      <td>&lt;selenium.webdriver.remote.webelement.WebEleme...</td>\n",
       "    </tr>\n",
       "    <tr>\n",
       "      <th>17</th>\n",
       "      <td>MOTOROLA G32 (Mineral Gray, 128 GB)</td>\n",
       "      <td>8 GB RAM | 128 GB ROM</td>\n",
       "      <td>50MP + 8MP + 2MP | 16MP Front Camera</td>\n",
       "      <td>16.64 cm (6.55 inch) Full HD+ Display</td>\n",
       "      <td>Qualcomm Snapdragon 680 Processor</td>\n",
       "      <td>5000 mAh Battery</td>\n",
       "      <td>&lt;selenium.webdriver.remote.webelement.WebEleme...</td>\n",
       "    </tr>\n",
       "    <tr>\n",
       "      <th>18</th>\n",
       "      <td>REDMI 10 (Midnight Black, 64 GB)</td>\n",
       "      <td>4 GB RAM | 64 GB ROM | Expandable Upto 1 TB</td>\n",
       "      <td>50MP + 2MP | 5MP Front Camera</td>\n",
       "      <td>17.02 cm (6.7 inch) HD+ Display</td>\n",
       "      <td>Qualcomm Snapdragon 680 Processor</td>\n",
       "      <td>6000 mAh Lithium Polymer Battery</td>\n",
       "      <td>&lt;selenium.webdriver.remote.webelement.WebEleme...</td>\n",
       "    </tr>\n",
       "    <tr>\n",
       "      <th>19</th>\n",
       "      <td>POCO C50 (Royal Blue, 32 GB)</td>\n",
       "      <td>2 GB RAM | 32 GB ROM | Expandable Upto 512 GB</td>\n",
       "      <td>8MP Dual Camera | 5MP Front Camera</td>\n",
       "      <td>16.56 cm (6.52 inch) HD+ Display</td>\n",
       "      <td>Mediatek Helio A22 Processor, Upto 2.0 GHz Pro...</td>\n",
       "      <td>5000 mAh Lithium Polymer Battery</td>\n",
       "      <td>&lt;selenium.webdriver.remote.webelement.WebEleme...</td>\n",
       "    </tr>\n",
       "    <tr>\n",
       "      <th>20</th>\n",
       "      <td>POCO C55 (Forest Green, 64 GB)</td>\n",
       "      <td>4 GB RAM | 64 GB ROM | Expandable Upto 1 TB</td>\n",
       "      <td>50MP Rear Camera | 5MP Front Camera</td>\n",
       "      <td>17.04 cm (6.71 inch) HD+ Display</td>\n",
       "      <td>Mediatek Helio G85 Processor</td>\n",
       "      <td>5000 mAh Battery</td>\n",
       "      <td>&lt;selenium.webdriver.remote.webelement.WebEleme...</td>\n",
       "    </tr>\n",
       "    <tr>\n",
       "      <th>21</th>\n",
       "      <td>Infinix SMART 7 (Emerald Green, 64 GB)</td>\n",
       "      <td>4 GB RAM | 64 GB ROM | Expandable Upto 2 TB</td>\n",
       "      <td>13MP + AI Lens | 5MP Front Camera</td>\n",
       "      <td>16.76 cm (6.6 inch) HD+ Display</td>\n",
       "      <td>Unisoc Spreadtrum SC9863A1 Processor</td>\n",
       "      <td>6000 mAh Battery</td>\n",
       "      <td>&lt;selenium.webdriver.remote.webelement.WebEleme...</td>\n",
       "    </tr>\n",
       "    <tr>\n",
       "      <th>22</th>\n",
       "      <td>Infinix SMART 7 (Night Black, 64 GB)</td>\n",
       "      <td>4 GB RAM | 64 GB ROM | Expandable Upto 2 TB</td>\n",
       "      <td>13MP + AI Lens | 5MP Front Camera</td>\n",
       "      <td>16.76 cm (6.6 inch) HD+ Display</td>\n",
       "      <td>Unisoc Spreadtrum SC9863A1 Processor</td>\n",
       "      <td>6000 mAh Battery</td>\n",
       "      <td>&lt;selenium.webdriver.remote.webelement.WebEleme...</td>\n",
       "    </tr>\n",
       "    <tr>\n",
       "      <th>23</th>\n",
       "      <td>Infinix SMART 7 (Azure Blue, 64 GB)</td>\n",
       "      <td>4 GB RAM | 64 GB ROM | Expandable Upto 2 TB</td>\n",
       "      <td>13MP + AI Lens | 5MP Front Camera</td>\n",
       "      <td>16.76 cm (6.6 inch) HD+ Display</td>\n",
       "      <td>Unisoc Spreadtrum SC9863A1 Processor</td>\n",
       "      <td>6000 mAh Battery</td>\n",
       "      <td>&lt;selenium.webdriver.remote.webelement.WebEleme...</td>\n",
       "    </tr>\n",
       "  </tbody>\n",
       "</table>\n",
       "</div>"
      ],
      "text/plain": [
       "                                    Brand_Name  \\\n",
       "0               realme C33 (Sandy Gold, 32 GB)   \n",
       "1                realme C33 (Night Sea, 64 GB)   \n",
       "2                realme C33 (Aqua Blue, 32 GB)   \n",
       "3                realme C33 (Aqua Blue, 64 GB)   \n",
       "4                realme C33 (Night Sea, 32 GB)   \n",
       "5               realme C33 (Sandy Gold, 64 GB)   \n",
       "6       SAMSUNG Galaxy F04 (Opal Green, 64 GB)   \n",
       "7   SAMSUNG Galaxy F13 (Nightsky Green, 64 GB)   \n",
       "8                 POCO C51 (Royal Blue, 64 GB)   \n",
       "9                 POCO C55 (Cool Blue, 128 GB)   \n",
       "10                 POCO C55 (Cool Blue, 64 GB)   \n",
       "11               POCO C55 (Power Black, 64 GB)   \n",
       "12               POCO C51 (Power Black, 64 GB)   \n",
       "13       POCO X5 Pro 5G (Astral Black, 256 GB)   \n",
       "14              POCO C55 (Power Black, 128 GB)   \n",
       "15          MOTOROLA e13 (Aurora Green, 64 GB)   \n",
       "16             POCO C55 (Forest Green, 128 GB)   \n",
       "17         MOTOROLA G32 (Mineral Gray, 128 GB)   \n",
       "18            REDMI 10 (Midnight Black, 64 GB)   \n",
       "19                POCO C50 (Royal Blue, 32 GB)   \n",
       "20              POCO C55 (Forest Green, 64 GB)   \n",
       "21      Infinix SMART 7 (Emerald Green, 64 GB)   \n",
       "22        Infinix SMART 7 (Night Black, 64 GB)   \n",
       "23         Infinix SMART 7 (Azure Blue, 64 GB)   \n",
       "\n",
       "                                          Storage  \\\n",
       "0     3 GB RAM | 32 GB ROM | Expandable Upto 1 TB   \n",
       "1     4 GB RAM | 64 GB ROM | Expandable Upto 1 TB   \n",
       "2     3 GB RAM | 32 GB ROM | Expandable Upto 1 TB   \n",
       "3     4 GB RAM | 64 GB ROM | Expandable Upto 1 TB   \n",
       "4     3 GB RAM | 32 GB ROM | Expandable Upto 1 TB   \n",
       "5     4 GB RAM | 64 GB ROM | Expandable Upto 1 TB   \n",
       "6     4 GB RAM | 64 GB ROM | Expandable Upto 1 TB   \n",
       "7     4 GB RAM | 64 GB ROM | Expandable Upto 1 TB   \n",
       "8     4 GB RAM | 64 GB ROM | Expandable Upto 1 TB   \n",
       "9    6 GB RAM | 128 GB ROM | Expandable Upto 1 TB   \n",
       "10    4 GB RAM | 64 GB ROM | Expandable Upto 1 TB   \n",
       "11    4 GB RAM | 64 GB ROM | Expandable Upto 1 TB   \n",
       "12    4 GB RAM | 64 GB ROM | Expandable Upto 1 TB   \n",
       "13                          8 GB RAM | 256 GB ROM   \n",
       "14   6 GB RAM | 128 GB ROM | Expandable Upto 1 TB   \n",
       "15    4 GB RAM | 64 GB ROM | Expandable Upto 1 TB   \n",
       "16   6 GB RAM | 128 GB ROM | Expandable Upto 1 TB   \n",
       "17                          8 GB RAM | 128 GB ROM   \n",
       "18    4 GB RAM | 64 GB ROM | Expandable Upto 1 TB   \n",
       "19  2 GB RAM | 32 GB ROM | Expandable Upto 512 GB   \n",
       "20    4 GB RAM | 64 GB ROM | Expandable Upto 1 TB   \n",
       "21    4 GB RAM | 64 GB ROM | Expandable Upto 2 TB   \n",
       "22    4 GB RAM | 64 GB ROM | Expandable Upto 2 TB   \n",
       "23    4 GB RAM | 64 GB ROM | Expandable Upto 2 TB   \n",
       "\n",
       "                                   Camera  \\\n",
       "0         50MP + 0.3MP | 5MP Front Camera   \n",
       "1         50MP + 0.3MP | 5MP Front Camera   \n",
       "2         50MP + 0.3MP | 5MP Front Camera   \n",
       "3         50MP + 0.3MP | 5MP Front Camera   \n",
       "4         50MP + 0.3MP | 5MP Front Camera   \n",
       "5         50MP + 0.3MP | 5MP Front Camera   \n",
       "6           13MP + 2MP | 5MP Front Camera   \n",
       "7     50MP + 5MP + 2MP | 8MP Front Camera   \n",
       "8      8MP Rear Camera | 5MP Front Camera   \n",
       "9     50MP Rear Camera | 5MP Front Camera   \n",
       "10    50MP Rear Camera | 5MP Front Camera   \n",
       "11    50MP Rear Camera | 5MP Front Camera   \n",
       "12     8MP Rear Camera | 5MP Front Camera   \n",
       "13  108MP + 8MP + 2MP | 16MP Front Camera   \n",
       "14    50MP Rear Camera | 5MP Front Camera   \n",
       "15    13MP Rear Camera | 5MP Front Camera   \n",
       "16    50MP Rear Camera | 5MP Front Camera   \n",
       "17   50MP + 8MP + 2MP | 16MP Front Camera   \n",
       "18          50MP + 2MP | 5MP Front Camera   \n",
       "19     8MP Dual Camera | 5MP Front Camera   \n",
       "20    50MP Rear Camera | 5MP Front Camera   \n",
       "21      13MP + AI Lens | 5MP Front Camera   \n",
       "22      13MP + AI Lens | 5MP Front Camera   \n",
       "23      13MP + AI Lens | 5MP Front Camera   \n",
       "\n",
       "                                  Display  \\\n",
       "0         16.51 cm (6.5 inch) HD+ Display   \n",
       "1         16.51 cm (6.5 inch) HD+ Display   \n",
       "2         16.51 cm (6.5 inch) HD+ Display   \n",
       "3         16.51 cm (6.5 inch) HD+ Display   \n",
       "4         16.51 cm (6.5 inch) HD+ Display   \n",
       "5         16.51 cm (6.5 inch) HD+ Display   \n",
       "6          16.51 cm (6.5 inch) HD Display   \n",
       "7    16.76 cm (6.6 inch) Full HD+ Display   \n",
       "8        16.56 cm (6.52 inch) HD+ Display   \n",
       "9        17.04 cm (6.71 inch) HD+ Display   \n",
       "10       17.04 cm (6.71 inch) HD+ Display   \n",
       "11       17.04 cm (6.71 inch) HD+ Display   \n",
       "12       16.56 cm (6.52 inch) HD+ Display   \n",
       "13  16.94 cm (6.67 inch) Full HD+ Display   \n",
       "14       17.04 cm (6.71 inch) HD+ Display   \n",
       "15        16.51 cm (6.5 inch) HD+ Display   \n",
       "16       17.04 cm (6.71 inch) HD+ Display   \n",
       "17  16.64 cm (6.55 inch) Full HD+ Display   \n",
       "18        17.02 cm (6.7 inch) HD+ Display   \n",
       "19       16.56 cm (6.52 inch) HD+ Display   \n",
       "20       17.04 cm (6.71 inch) HD+ Display   \n",
       "21        16.76 cm (6.6 inch) HD+ Display   \n",
       "22        16.76 cm (6.6 inch) HD+ Display   \n",
       "23        16.76 cm (6.6 inch) HD+ Display   \n",
       "\n",
       "                                            Processor  \\\n",
       "0                               Unisoc T612 Processor   \n",
       "1                               Unisoc T612 Processor   \n",
       "2                               Unisoc T612 Processor   \n",
       "3                               Unisoc T612 Processor   \n",
       "4                               Unisoc T612 Processor   \n",
       "5                               Unisoc T612 Processor   \n",
       "6                        Mediatek Helio P35 Processor   \n",
       "7                                Exynos 850 Processor   \n",
       "8                                 Helio G36 Processor   \n",
       "9                        Mediatek Helio G85 Processor   \n",
       "10                       Mediatek Helio G85 Processor   \n",
       "11                       Mediatek Helio G85 Processor   \n",
       "12                                Helio G36 Processor   \n",
       "13                 Qualcomm Snapdragon 778G Processor   \n",
       "14                       Mediatek Helio G85 Processor   \n",
       "15                              Unisoc T606 Processor   \n",
       "16                       Mediatek Helio G85 Processor   \n",
       "17                  Qualcomm Snapdragon 680 Processor   \n",
       "18                  Qualcomm Snapdragon 680 Processor   \n",
       "19  Mediatek Helio A22 Processor, Upto 2.0 GHz Pro...   \n",
       "20                       Mediatek Helio G85 Processor   \n",
       "21               Unisoc Spreadtrum SC9863A1 Processor   \n",
       "22               Unisoc Spreadtrum SC9863A1 Processor   \n",
       "23               Unisoc Spreadtrum SC9863A1 Processor   \n",
       "\n",
       "                             Battery  \\\n",
       "0       5000 mAh Lithium Ion Battery   \n",
       "1       5000 mAh Lithium Ion Battery   \n",
       "2       5000 mAh Lithium Ion Battery   \n",
       "3       5000 mAh Lithium Ion Battery   \n",
       "4       5000 mAh Lithium Ion Battery   \n",
       "5       5000 mAh Lithium Ion Battery   \n",
       "6       5000 mAh Lithium-Ion Battery   \n",
       "7       6000 mAh Lithium Ion Battery   \n",
       "8                   5000 mAh Battery   \n",
       "9                   5000 mAh Battery   \n",
       "10                  5000 mAh Battery   \n",
       "11                  5000 mAh Battery   \n",
       "12                  5000 mAh Battery   \n",
       "13                  5000 mAh Battery   \n",
       "14                  5000 mAh Battery   \n",
       "15                  5000 mAh Battery   \n",
       "16                  5000 mAh Battery   \n",
       "17                  5000 mAh Battery   \n",
       "18  6000 mAh Lithium Polymer Battery   \n",
       "19  5000 mAh Lithium Polymer Battery   \n",
       "20                  5000 mAh Battery   \n",
       "21                  6000 mAh Battery   \n",
       "22                  6000 mAh Battery   \n",
       "23                  6000 mAh Battery   \n",
       "\n",
       "                                                Price  \n",
       "0   <selenium.webdriver.remote.webelement.WebEleme...  \n",
       "1   <selenium.webdriver.remote.webelement.WebEleme...  \n",
       "2   <selenium.webdriver.remote.webelement.WebEleme...  \n",
       "3   <selenium.webdriver.remote.webelement.WebEleme...  \n",
       "4   <selenium.webdriver.remote.webelement.WebEleme...  \n",
       "5   <selenium.webdriver.remote.webelement.WebEleme...  \n",
       "6   <selenium.webdriver.remote.webelement.WebEleme...  \n",
       "7   <selenium.webdriver.remote.webelement.WebEleme...  \n",
       "8   <selenium.webdriver.remote.webelement.WebEleme...  \n",
       "9   <selenium.webdriver.remote.webelement.WebEleme...  \n",
       "10  <selenium.webdriver.remote.webelement.WebEleme...  \n",
       "11  <selenium.webdriver.remote.webelement.WebEleme...  \n",
       "12  <selenium.webdriver.remote.webelement.WebEleme...  \n",
       "13  <selenium.webdriver.remote.webelement.WebEleme...  \n",
       "14  <selenium.webdriver.remote.webelement.WebEleme...  \n",
       "15  <selenium.webdriver.remote.webelement.WebEleme...  \n",
       "16  <selenium.webdriver.remote.webelement.WebEleme...  \n",
       "17  <selenium.webdriver.remote.webelement.WebEleme...  \n",
       "18  <selenium.webdriver.remote.webelement.WebEleme...  \n",
       "19  <selenium.webdriver.remote.webelement.WebEleme...  \n",
       "20  <selenium.webdriver.remote.webelement.WebEleme...  \n",
       "21  <selenium.webdriver.remote.webelement.WebEleme...  \n",
       "22  <selenium.webdriver.remote.webelement.WebEleme...  \n",
       "23  <selenium.webdriver.remote.webelement.WebEleme...  "
      ]
     },
     "execution_count": 31,
     "metadata": {},
     "output_type": "execute_result"
    }
   ],
   "source": [
    "df=pd.DataFrame([])\n",
    "df['Brand_Name']=Brand_Name\n",
    "df['Storage']=Storage_ram_rom\n",
    "df['Camera']=Cam\n",
    "df['Display']=Display\n",
    "df['Processor']=Processor\n",
    "df['Battery']=Battery\n",
    "df['Price']=price\n",
    "\n",
    "df"
   ]
  },
  {
   "cell_type": "code",
   "execution_count": null,
   "id": "ec84e4c6",
   "metadata": {},
   "outputs": [],
   "source": []
  },
  {
   "cell_type": "markdown",
   "id": "60e2d36e",
   "metadata": {},
   "source": [
    "# Question - 5"
   ]
  },
  {
   "cell_type": "code",
   "execution_count": 51,
   "id": "dc11f70c",
   "metadata": {},
   "outputs": [
    {
     "name": "stdout",
     "output_type": "stream",
     "text": [
      "enter the city name you want to search?? pune\n"
     ]
    }
   ],
   "source": [
    "driver = webdriver.Chrome('chromedriver.exe')\n",
    "driver.get('https://www.google.com/maps/')\n",
    "city = input(\"enter the city name you want to search?? \")\n",
    "search = driver.find_element(By.ID, \"searchboxinput\")\n",
    "search.clear()\n",
    "search.send_keys(city) \n",
    "\n",
    "button = driver.find_element(By.ID, \"searchbox-searchbutton\")             \n",
    "button.click()                                                        \n",
    "time.sleep(3)"
   ]
  },
  {
   "cell_type": "code",
   "execution_count": 52,
   "id": "3fce5efc",
   "metadata": {},
   "outputs": [
    {
     "name": "stdout",
     "output_type": "stream",
     "text": [
      "location_url:  https://www.google.com/maps/place/Pune,+Maharashtra/@18.524545,73.6981525,11z/data=!3m1!4b1!4m6!3m5!1s0x3bc2bf2e67461101:0x828d43bf9d9ee343!8m2!3d18.5204303!4d73.8567437!16zL20vMDE1eTJx\n",
      "longitude: 18.52454 and latitude: 73.69815\n"
     ]
    }
   ],
   "source": [
    "try: \n",
    "    location = driver.current_url\n",
    "    print('location_url: ', location )\n",
    "    string = location \n",
    "    patten = '\\d\\d.\\d{5}|\\d\\d.\\d{5}'\n",
    "    longitude_latitude = re.findall(patten, string)\n",
    "    long = longitude_latitude[0]\n",
    "    lati = longitude_latitude[1]\n",
    "    print(\"longitude: {} and latitude: {}\".format(long, lati))\n",
    "    \n",
    "except Exception as ex:\n",
    "    print('ERROR: ', ex)"
   ]
  },
  {
   "cell_type": "markdown",
   "id": "b7456b4d",
   "metadata": {},
   "source": [
    "# Question - 6\n"
   ]
  },
  {
   "cell_type": "code",
   "execution_count": 53,
   "id": "f2733fa5",
   "metadata": {},
   "outputs": [],
   "source": [
    "driver = webdriver.Chrome('chromedriver.exe')"
   ]
  },
  {
   "cell_type": "code",
   "execution_count": 54,
   "id": "6d22fc2c",
   "metadata": {},
   "outputs": [],
   "source": [
    "url = \"https://trak.in/india-startup-funding-investment-2015/\"\n",
    "driver.get(url)"
   ]
  },
  {
   "cell_type": "code",
   "execution_count": 55,
   "id": "ac37955f",
   "metadata": {},
   "outputs": [],
   "source": [
    "Dates=[]\n",
    "Company=[]\n",
    "Industry=[]\n",
    "Investor=[]\n",
    "Investment=[]\n",
    "Cost=[]"
   ]
  },
  {
   "cell_type": "code",
   "execution_count": 56,
   "id": "ef612424",
   "metadata": {},
   "outputs": [
    {
     "name": "stdout",
     "output_type": "stream",
     "text": [
      "392\n"
     ]
    }
   ],
   "source": [
    "date=driver.find_elements(By.XPATH, \"//td[@class='column-2']\")\n",
    "for i in date: # scrape the dates by xpath\n",
    "    if i.text is None :\n",
    "        Dates.append(\" \") \n",
    "    else:\n",
    "        Dates.append(i.text)\n",
    "print(len(Dates))"
   ]
  },
  {
   "cell_type": "code",
   "execution_count": 57,
   "id": "cd9117ec",
   "metadata": {},
   "outputs": [
    {
     "name": "stdout",
     "output_type": "stream",
     "text": [
      "392\n"
     ]
    }
   ],
   "source": [
    "#scrape the company name by xpath\n",
    "companies=driver.find_elements(By.XPATH, \"//td[@class='column-3']\")\n",
    "for i in companies:\n",
    "    if i.text is None :\n",
    "        Company.append(\" \") \n",
    "    else:\n",
    "        Company.append(i.text)\n",
    "print(len(Company))"
   ]
  },
  {
   "cell_type": "code",
   "execution_count": 58,
   "id": "ffa2cb87",
   "metadata": {},
   "outputs": [
    {
     "name": "stdout",
     "output_type": "stream",
     "text": [
      "392\n"
     ]
    }
   ],
   "source": [
    "#scrape the industries type\n",
    "indus =driver.find_elements(By.XPATH, \"//td[@class='column-4']\")\n",
    "for i in indus:\n",
    "    if i.text is None :\n",
    "        Industry.append(\" \") \n",
    "    else:\n",
    "        Industry.append(i.text)\n",
    "print(len(Industry))"
   ]
  },
  {
   "cell_type": "code",
   "execution_count": 59,
   "id": "936a53a4",
   "metadata": {},
   "outputs": [
    {
     "name": "stdout",
     "output_type": "stream",
     "text": [
      "392\n"
     ]
    }
   ],
   "source": [
    "#scrape the name of the investor\n",
    "inves =driver.find_elements(By.XPATH, \"//td[@class='column-7']\")\n",
    "for i in inves:\n",
    "    if i.text is None :\n",
    "        Investor.append(\" \") \n",
    "    else:\n",
    "        Investor.append(i.text)\n",
    "print(len(Investor))"
   ]
  },
  {
   "cell_type": "code",
   "execution_count": 60,
   "id": "ec3ae0fe",
   "metadata": {},
   "outputs": [
    {
     "name": "stdout",
     "output_type": "stream",
     "text": [
      "392\n"
     ]
    }
   ],
   "source": [
    "#scrape the investment type\n",
    "i_type=driver.find_elements(By.XPATH, \"//td[@class='column-8']\")\n",
    "for i in i_type:\n",
    "    if i.text is None :\n",
    "        Investment.append(\" \") \n",
    "    else:\n",
    "        Investment.append(i.text)\n",
    "print(len(Investment))\n"
   ]
  },
  {
   "cell_type": "code",
   "execution_count": 61,
   "id": "7731bb20",
   "metadata": {},
   "outputs": [
    {
     "name": "stdout",
     "output_type": "stream",
     "text": [
      "392\n"
     ]
    }
   ],
   "source": [
    "#scrape the cost of investment\n",
    "price=driver.find_elements(By.XPATH, \"//td[@class='column-9']\")\n",
    "for i in price:\n",
    "    if i.text is None :\n",
    "        Cost.append(\" \") \n",
    "    else:\n",
    "        Cost.append(i.text)\n",
    "print(len(Cost))"
   ]
  },
  {
   "cell_type": "code",
   "execution_count": 62,
   "id": "3f5d1b9d",
   "metadata": {},
   "outputs": [
    {
     "data": {
      "text/html": [
       "<div>\n",
       "<style scoped>\n",
       "    .dataframe tbody tr th:only-of-type {\n",
       "        vertical-align: middle;\n",
       "    }\n",
       "\n",
       "    .dataframe tbody tr th {\n",
       "        vertical-align: top;\n",
       "    }\n",
       "\n",
       "    .dataframe thead th {\n",
       "        text-align: right;\n",
       "    }\n",
       "</style>\n",
       "<table border=\"1\" class=\"dataframe\">\n",
       "  <thead>\n",
       "    <tr style=\"text-align: right;\">\n",
       "      <th></th>\n",
       "      <th>company_name</th>\n",
       "      <th>Industry</th>\n",
       "      <th>Investor_Name</th>\n",
       "      <th>Amount Invested</th>\n",
       "      <th>Specification</th>\n",
       "      <th>Dates</th>\n",
       "    </tr>\n",
       "  </thead>\n",
       "  <tbody>\n",
       "    <tr>\n",
       "      <th>0</th>\n",
       "      <td>BYJU’S</td>\n",
       "      <td>Edu-tech</td>\n",
       "      <td>Innoven Capital</td>\n",
       "      <td>460,000,000</td>\n",
       "      <td>Series F</td>\n",
       "      <td>01/04/2021</td>\n",
       "    </tr>\n",
       "    <tr>\n",
       "      <th>1</th>\n",
       "      <td>Meesho</td>\n",
       "      <td>E-commerce</td>\n",
       "      <td>SoftBank Vision Fund 2</td>\n",
       "      <td>300,000,000</td>\n",
       "      <td>Series E</td>\n",
       "      <td>05/04/2021</td>\n",
       "    </tr>\n",
       "    <tr>\n",
       "      <th>2</th>\n",
       "      <td>Swiggy</td>\n",
       "      <td>Online Food Delivery</td>\n",
       "      <td>Amansa Holdings, Carmignac, Falcon Edge Capita...</td>\n",
       "      <td>343,000,000</td>\n",
       "      <td>Series J</td>\n",
       "      <td>14/04/2021</td>\n",
       "    </tr>\n",
       "    <tr>\n",
       "      <th>3</th>\n",
       "      <td>Groww</td>\n",
       "      <td>FinTech</td>\n",
       "      <td>MC Global Edtech, B Capital, Baron, others</td>\n",
       "      <td>83,000,000</td>\n",
       "      <td>Series D</td>\n",
       "      <td>07/04/2021</td>\n",
       "    </tr>\n",
       "    <tr>\n",
       "      <th>4</th>\n",
       "      <td>Beldara</td>\n",
       "      <td>E-commerce</td>\n",
       "      <td>Hindustan Media Ventures</td>\n",
       "      <td>7,400,000</td>\n",
       "      <td>Venture</td>\n",
       "      <td>14/04/2021</td>\n",
       "    </tr>\n",
       "    <tr>\n",
       "      <th>...</th>\n",
       "      <td>...</td>\n",
       "      <td>...</td>\n",
       "      <td>...</td>\n",
       "      <td>...</td>\n",
       "      <td>...</td>\n",
       "      <td>...</td>\n",
       "    </tr>\n",
       "    <tr>\n",
       "      <th>387</th>\n",
       "      <td>zippserv</td>\n",
       "      <td>Consumer Internet</td>\n",
       "      <td>Info Edge (India) Ltd</td>\n",
       "      <td>440,000</td>\n",
       "      <td>Seed/ Angel Funding</td>\n",
       "      <td>09/07/2018</td>\n",
       "    </tr>\n",
       "    <tr>\n",
       "      <th>388</th>\n",
       "      <td>Groww</td>\n",
       "      <td>Consumer Internet</td>\n",
       "      <td>Insignia Ventures Partners, Lightbridge Partne...</td>\n",
       "      <td>1,100,000</td>\n",
       "      <td>Seed/ Angel Funding</td>\n",
       "      <td>09/07/2018</td>\n",
       "    </tr>\n",
       "    <tr>\n",
       "      <th>389</th>\n",
       "      <td>Avenue Growth</td>\n",
       "      <td>Consumer Internet</td>\n",
       "      <td>Avtar Monga, chief operating office at IDFC Ba...</td>\n",
       "      <td>437,000</td>\n",
       "      <td>Seed/ Angel Funding</td>\n",
       "      <td>10/07/2018</td>\n",
       "    </tr>\n",
       "    <tr>\n",
       "      <th>390</th>\n",
       "      <td>iNICU</td>\n",
       "      <td>Healthcare</td>\n",
       "      <td>Venture Catalysts</td>\n",
       "      <td>N/A</td>\n",
       "      <td>Seed/ Angel Funding</td>\n",
       "      <td>10/07/2018</td>\n",
       "    </tr>\n",
       "    <tr>\n",
       "      <th>391</th>\n",
       "      <td>Kinara Capital</td>\n",
       "      <td>Finance</td>\n",
       "      <td>ResponsAbility</td>\n",
       "      <td>5,000,000</td>\n",
       "      <td>Private Equity</td>\n",
       "      <td>10/07/2018</td>\n",
       "    </tr>\n",
       "  </tbody>\n",
       "</table>\n",
       "<p>392 rows × 6 columns</p>\n",
       "</div>"
      ],
      "text/plain": [
       "       company_name              Industry  \\\n",
       "0            BYJU’S              Edu-tech   \n",
       "1            Meesho            E-commerce   \n",
       "2            Swiggy  Online Food Delivery   \n",
       "3             Groww               FinTech   \n",
       "4           Beldara            E-commerce   \n",
       "..              ...                   ...   \n",
       "387        zippserv     Consumer Internet   \n",
       "388           Groww     Consumer Internet   \n",
       "389   Avenue Growth     Consumer Internet   \n",
       "390           iNICU            Healthcare   \n",
       "391  Kinara Capital               Finance   \n",
       "\n",
       "                                         Investor_Name Amount Invested  \\\n",
       "0                                      Innoven Capital     460,000,000   \n",
       "1                               SoftBank Vision Fund 2     300,000,000   \n",
       "2    Amansa Holdings, Carmignac, Falcon Edge Capita...     343,000,000   \n",
       "3           MC Global Edtech, B Capital, Baron, others      83,000,000   \n",
       "4                             Hindustan Media Ventures       7,400,000   \n",
       "..                                                 ...             ...   \n",
       "387                              Info Edge (India) Ltd         440,000   \n",
       "388  Insignia Ventures Partners, Lightbridge Partne...       1,100,000   \n",
       "389  Avtar Monga, chief operating office at IDFC Ba...         437,000   \n",
       "390                                  Venture Catalysts             N/A   \n",
       "391                                     ResponsAbility       5,000,000   \n",
       "\n",
       "           Specification       Dates  \n",
       "0               Series F  01/04/2021  \n",
       "1               Series E  05/04/2021  \n",
       "2               Series J  14/04/2021  \n",
       "3               Series D  07/04/2021  \n",
       "4                Venture  14/04/2021  \n",
       "..                   ...         ...  \n",
       "387  Seed/ Angel Funding  09/07/2018  \n",
       "388  Seed/ Angel Funding  09/07/2018  \n",
       "389  Seed/ Angel Funding  10/07/2018  \n",
       "390  Seed/ Angel Funding  10/07/2018  \n",
       "391       Private Equity  10/07/2018  \n",
       "\n",
       "[392 rows x 6 columns]"
      ]
     },
     "execution_count": 62,
     "metadata": {},
     "output_type": "execute_result"
    }
   ],
   "source": [
    "df= pd.DataFrame({\n",
    "    'company_name': Company, \n",
    "    'Industry': Industry, \n",
    "    'Investor_Name': Investor,\n",
    "    'Amount Invested': Cost,\n",
    "    'Specification': Investment,\n",
    "    'Dates' : Dates\n",
    "\n",
    "    \n",
    "})\n",
    "df"
   ]
  },
  {
   "cell_type": "code",
   "execution_count": null,
   "id": "40327682",
   "metadata": {},
   "outputs": [],
   "source": []
  },
  {
   "cell_type": "code",
   "execution_count": null,
   "id": "fffdb6e0",
   "metadata": {},
   "outputs": [],
   "source": []
  },
  {
   "cell_type": "markdown",
   "id": "400d00d6",
   "metadata": {},
   "source": [
    "# Question - 7"
   ]
  },
  {
   "cell_type": "code",
   "execution_count": 63,
   "id": "c962ce9e",
   "metadata": {},
   "outputs": [],
   "source": [
    "driver = webdriver.Chrome('chromedriver.exe')\n",
    "url=\"https://www.digit.in/top-products/best-gaming-laptops-40.html\"\n",
    "driver.get(url)"
   ]
  },
  {
   "cell_type": "code",
   "execution_count": 64,
   "id": "37ba97d2",
   "metadata": {},
   "outputs": [],
   "source": [
    "Brands=[]\n",
    "Products_Detail=[]\n",
    "Specification=[]\n",
    "Price=[]"
   ]
  },
  {
   "cell_type": "code",
   "execution_count": 65,
   "id": "87049147",
   "metadata": {},
   "outputs": [
    {
     "data": {
      "text/plain": [
       "7"
      ]
     },
     "execution_count": 65,
     "metadata": {},
     "output_type": "execute_result"
    }
   ],
   "source": [
    "brand=driver.find_elements(By.XPATH, '//div[@class=\"TopNumbeHeading\"]')\n",
    "len(brand)"
   ]
  },
  {
   "cell_type": "code",
   "execution_count": 66,
   "id": "7ddc327d",
   "metadata": {},
   "outputs": [
    {
     "data": {
      "text/plain": [
       "['1.HP OMEN 17 (2023)',\n",
       " '2.MSI Titan GT77 12UHS',\n",
       " '3.Lenovo Legion 5i Pro',\n",
       " '4.ASUS ROG Strix Scar 18 2023',\n",
       " '5.Acer Predator Helios Neo 16',\n",
       " '6.ASUS ROG Zephyrus G14',\n",
       " '7.MSI Cyborg 15']"
      ]
     },
     "execution_count": 66,
     "metadata": {},
     "output_type": "execute_result"
    }
   ],
   "source": [
    "for i in brand:\n",
    "    \n",
    "   \n",
    "    Brands.append(str(i.text).replace(\"\\n\",\"\"))\n",
    "Brands"
   ]
  },
  {
   "cell_type": "code",
   "execution_count": 67,
   "id": "c26e1a52",
   "metadata": {},
   "outputs": [
    {
     "name": "stdout",
     "output_type": "stream",
     "text": [
      "7\n"
     ]
    },
    {
     "data": {
      "text/plain": [
       "['Windows 11 Home17.3\" (2560 x 1440)13th Gen Intel Core i7-13700HX | 5.0 GHz1 TB SSD/16 GB DDR5',\n",
       " 'Windows 11 Home17.3\" (3840 x 2160)12th Gen Intel Core i9-12900HX | 3.6 GHz2 TB SSD/64 GB DDR5',\n",
       " 'Windows 11 Home16\" (2560 x 1600)12th Gen Intel Core i7-12700H | 4.7 GHz1 TB SSD/32 GB DDR5',\n",
       " 'Windows 11 Home18\" (1920 x 1200)13th Gen Intel Core i9-13980HX | 2.2 GHz1 TB SSD/32 GB DDR5',\n",
       " 'Windows 11 Home16\" (2560 x 1600)13th Gen Intel Core i7-13700HX | NA1 TB SSD/16 GB DDR5',\n",
       " 'Windows 11 Home14\" (1920 x 1200)AMD Ryzen 9-6900HS | 4.9 GHz1 TB SSD/16 GB DDR5',\n",
       " 'Windows 11 Home15.6\" (1920 x 1080)12th Gen Intel Core i7-12650H | 4.7 GHz1 TB SSD/16 GB DDR5']"
      ]
     },
     "execution_count": 67,
     "metadata": {},
     "output_type": "execute_result"
    }
   ],
   "source": [
    "speci =driver.find_elements(By.XPATH, \"//div[@class='Specs-Wrap']\")\n",
    "print(len(speci))\n",
    "for i in speci:\n",
    "   \n",
    "    Specification.append(str(i.text).replace(\"\\n\",\"\"))\n",
    "Specification"
   ]
  },
  {
   "cell_type": "code",
   "execution_count": 68,
   "id": "e8de057d",
   "metadata": {},
   "outputs": [
    {
     "name": "stdout",
     "output_type": "stream",
     "text": [
      "14\n"
     ]
    },
    {
     "data": {
      "text/plain": [
       "['We tested the HP OMEN 17 2023 at our digit test labs and it got every single gamer in the Digit editorial team super excited with its screaming fast performance across the latest games at maxed-out settings. Just to give you a reference, the OMEN 17 will happily do 350+ FPS on Valorant and consistently deliver 100+ FPS across any game you throw at it, all with the graphics slider kept at maximum/highest levels. You can check out our video review below to get the full low down on its performance, display quality tests with hardware level tests of brightness and color accuracy along with thermal performance under heavy load as well. ...Read MoreMORE SPECIFICATIONSProcessor : 13th Gen Intel Core i7-13700HX 16 core processor with 5.0 GHz clock speedDisplay : 17.3″ (2560 x 1440) screen, 165 Hz refresh rateOS : Windows 11 HomeMemory : 16 GB DDR5GB RAM & 1 TB SSDGraphics Processor : 12 GB DDR6 NVIDIA GeForce RTX 4080 Graphics cardBody : 397.1 x 262 x 27 mm dimension & 2.78 kg weightPrice : ₹ 269,777',\n",
       " '',\n",
       " \"This laptop won our best performance award last year in the gaming laptop category and that is a testament to its performance and gaming prowess. What impressed us the most about this gaming beast is its sustained performance delivery even under heavy loads. This speaks volumes about its thermal management system, a big factor when it comes to high-performance gaming laptops that house top-of-the-line hardware inside laptop chassis which have very little room to manage heat in comparison to gaming desktops. However, you should also keep in mind that this is one heavy laptop (3.3 kg) and its not meant to be carried around frequently. The MSI Titan is also heavy on your wallet and that's also the reason why we have suggested lesser-priced high-performance gaming laptops below in the list to suit slightly lower budgets. To know more about the MSI laptop and its performance numbers, check out our videos below. ...Read MoreMORE SPECIFICATIONSProcessor : 12th Gen Intel Core i9-12900HX 16 core processor with 3.6 GHz clock speedDisplay : 17.3″ (3840 x 2160) screen, 120 Hz refresh rateOS : Windows 11 HomeMemory : 64 GB DDR5GB RAM & 2 TB SSDGraphics Processor : 16 GB DDR6 NVIDIA GeForce RTX 3080Ti Graphics cardBody : 397 x 330 x 23 mm dimension & 3.3 kg weightPrice : ₹ 499,990\",\n",
       " '',\n",
       " 'This Lenovo Legion 5i Pro gaming laptop hits the sweet spot when it comes to the price-to-performance ratio in the upper price range of gaming laptops. It does pack an Nvidia GeForce RTX 3070Ti GPU which is very well-fed with enough power. The 150W TGP rating of the GPU ensures unshackled performance across the most demanding games with Ray Tracing turned on. Besides performance (which you can find in detail from the video below), the other two areas that left us mighty impressed are thermal management and display quality. Lenovo has worked on the aspects that matter the most to gamers and as a result, this gaming laptop performs very well when it comes to the premium segment of gaming laptops where there is very little room for any cut corners. ...Read MoreMORE SPECIFICATIONSProcessor : 12th Gen Intel Core i7-12700H 14 core processor with 4.7 GHz clock speedDisplay : 16″ (2560 x 1600) screenOS : Windows 11 HomeMemory : 32 GB DDR5GB RAM & 1 TB SSDGraphics Processor : NVIDIA GeForce RTX 3070 Ti Graphics cardBody : 359.9 x 264.4 x 19.9 mm dimension & 3.6 kg weightPrice : ₹ 218,000',\n",
       " '',\n",
       " \"If a 17-inch display on a gaming laptop no longer cuts it for you, this one should be right in the slot for a high-performance gaming laptop. With an 18-inch display the ASUS ROG Strix Scar 18 (that's a mouthful), should be your weapon of choice, especially if you are on the lookout for a performance machine with an Nvidia RTX 4080 under the hood. The blazing fast GPU is well accompanied by a 13th Gen Intel Core i9 HX series processor and 32GB of RAM. Your games will not only run at butter-smooth frame rates, they will also load faster with 32GB of DDR5 memory rated at 4800MHz. The large 18-inch display allowed ASUS some additional room inside the chassis, as a result, while the laptop has a large footprint, it's not excessively thick or heavy for an 18-inch top specced gaming laptop. Our only possible crib against the laptop is the display resolution which is limited to FHD+ (1920 x 1200) on this particular model. So you will be a bit short of the 1440p standard which is considered as the sweet spot, given the GeForce RTX 4080 under the hood. ...Read MoreMORE SPECIFICATIONSProcessor : 13th Gen Intel Core i9-13980HX 24 core processor with 2.2 GHz clock speedDisplay : 18″ (1920 x 1200) screen, 165 Hz refresh rateOS : Windows 11 HomeMemory : 32 GB DDR5GB RAM & 1 TB SSDGraphics Processor : 12 GB DDR6 NVIDIA GeForce RTX 4080 Graphics cardBody : 294 x 399 x 23 mm dimension & 3.1 kg weightPrice : ₹ 279,990\",\n",
       " '',\n",
       " \"The Acer Predator series of gaming laptops has impressed us during our testing with its consistent cooling performance and with the brand new Helios Neo line-up Acer has further improved on the thermal management aspect. This particular Neo 16 model combines the latest gaming hardware, with a 13th Gen Intel Core i7 processor and the Nvidia GeForce RTX 4060 graphics card. This combination delivers unbeatable value in the high-performance gaming laptop segment, the Core i7 + RTX 4060 combination fits like a glove for 1440p gaming at high FPS. And Acer has chosen the right display spec with a 165Hz 16-inch IPS display with 2560 x 1600 pixel resolution. And the panel carries an impressive 500nit brightness rating, making it one of the brightest displays in its price segment. We do have a bone to pick with Acer though, 16GB of RAM simply doesn't do justice to this configuration, this one screams for 32GB RAM to make the most of all the firepower inside that well-built chassis. ...Read MoreMORE SPECIFICATIONSProcessor : 13th Gen Intel Core i7-13700HX processorDisplay : 16″ (2560 x 1600) screen, 165 Hz refresh rateOS : Windows 11 HomeMemory : 16 GB DDR5GB RAM & 1 TB SSDGraphics Processor : 8 GB DDR6 NVIDIA GeForce RTX 4060 Graphics cardBody : 360 x 279 x 28 mm dimension & 2.6 kg weightPrice : ₹ 149,990\",\n",
       " '',\n",
       " 'Another ASUS laptop makes it to our list, and this one lies at the other end of the spectrum when it comes to portability. This is your high-performance \"go anywhere\" gaming laptop. Asus ROG Zephyrus is known for its thin and light play in the high-performance gaming laptop space and this particular model sits at the top of the stack. ASUS proudly calls this one an \"All AMD Muscle\" gaming laptop, courtesy of the combination of AMD Ryzen 9 6900HS and the AMD Radeon RX 6700S graphics card with 8GB of GDDR6 video RAM. The combination works really well when it comes to delivering top-notch gaming performance across all AAA gaming titles. The 14-inch display ensures you don\\'t need to push the resolution beyond 1080p and take full advantage of the 144Hz refresh rate on the display. Besides being a compact, thin, and light gaming laptop, the Zephyrus 14 is also one of the best-looking gaming laptops with excellent build quality. We have tested the Asus ROG Zephyrus series of gaming laptops in the past and have particularly appreciated how it delivers a quality gaming experience in a small package. Creators and gamer streamers should particularly consider this laptop, as this does deliver gaming goods while not bothering you with any additional heft. ...Read MoreMORE SPECIFICATIONSProcessor : AMD Ryzen 9-6900HS 8 core processor with 4.9 GHz clock speedDisplay : 14″ (1920 x 1200) screen, 144 Hz refresh rateOS : Windows 11 HomeMemory : 16 GB DDR5GB RAM & 1 TB SSDGraphics Processor : 8 GB DDR6 AMD Radeon RX 6700S Graphics cardBody : 312 x 227 x 19 mm dimension & 1.65 kg weightPrice : ₹ 156,990',\n",
       " '',\n",
       " 'One of the newest gaming laptop series from MSI, the MSI Cyborg is all about walking the line when it comes to performance vs portability. It does the balancing act by offering a slim chassis that is also light at under 2kg. This particular MSI Cyborg 15 model that we are recommending here runs on the Nvidia GeForce RTX 4060 graphics card, coupled with a 10-core 12th Gen Intel Core i7 series processor. The display on this one is a standard 15.6 inch 1080p panel with a 144Hz refresh rate. At a market price of approximately Rs. 1,30,990, this MSI laptop is a value-for-money pick for gamers looking at pure FPS numbers and wanting to go well beyond the entry-level gaming laptops without having to commit a big chunk of their back balance. ...Read MoreMORE SPECIFICATIONSProcessor : 12th Gen Intel Core i7-12650H 10 core processor with 4.7 GHz clock speedDisplay : 15.6″ (1920 x 1080) screen, 144 Hz refresh rateOS : Windows 11 HomeMemory : 16 GB DDR5GB RAM & 1 TB SSDGraphics Processor : 8 GB DDR6 NVIDIA GeForce RTX 4060 Graphics cardBody : & 1.98 kg weightPrice : ₹ 130,990',\n",
       " '']"
      ]
     },
     "execution_count": 68,
     "metadata": {},
     "output_type": "execute_result"
    }
   ],
   "source": [
    "\n",
    "detail=driver.find_elements(By.XPATH, \"//div[@class='Section-center']\")\n",
    "print(len(detail))\n",
    "for i in detail:\n",
    "   \n",
    "    Products_Detail.append(str(i.text).replace(\"\\n\",\"\"))\n",
    "    \n",
    "Products_Detail\n"
   ]
  },
  {
   "cell_type": "code",
   "execution_count": 69,
   "id": "1db7b642",
   "metadata": {},
   "outputs": [
    {
     "data": {
      "text/plain": [
       "['₹ 269,777',\n",
       " '₹ 499,990',\n",
       " '₹ 218,000',\n",
       " '₹ 279,990',\n",
       " '₹ 149,990',\n",
       " '₹ 156,990',\n",
       " '₹ 130,990']"
      ]
     },
     "execution_count": 69,
     "metadata": {},
     "output_type": "execute_result"
    }
   ],
   "source": [
    "price=driver.find_elements(By.XPATH, \"//td[@class='smprice']\")\n",
    "len(price)\n",
    "for i in price:\n",
    "   \n",
    "    Price.append(str(i.text).replace(\"\\n\",\"\"))\n",
    "Price"
   ]
  },
  {
   "cell_type": "code",
   "execution_count": 70,
   "id": "cf7f0ac6",
   "metadata": {},
   "outputs": [
    {
     "data": {
      "text/html": [
       "<div>\n",
       "<style scoped>\n",
       "    .dataframe tbody tr th:only-of-type {\n",
       "        vertical-align: middle;\n",
       "    }\n",
       "\n",
       "    .dataframe tbody tr th {\n",
       "        vertical-align: top;\n",
       "    }\n",
       "\n",
       "    .dataframe thead th {\n",
       "        text-align: right;\n",
       "    }\n",
       "</style>\n",
       "<table border=\"1\" class=\"dataframe\">\n",
       "  <thead>\n",
       "    <tr style=\"text-align: right;\">\n",
       "      <th></th>\n",
       "      <th>Brand_name</th>\n",
       "      <th>description</th>\n",
       "      <th>price</th>\n",
       "      <th>specification</th>\n",
       "    </tr>\n",
       "  </thead>\n",
       "  <tbody>\n",
       "    <tr>\n",
       "      <th>0</th>\n",
       "      <td>1.HP OMEN 17 (2023)</td>\n",
       "      <td>We tested the HP OMEN 17 2023 at our digit tes...</td>\n",
       "      <td>₹ 269,777</td>\n",
       "      <td>Windows 11 Home17.3\" (2560 x 1440)13th Gen Int...</td>\n",
       "    </tr>\n",
       "    <tr>\n",
       "      <th>1</th>\n",
       "      <td>2.MSI Titan GT77 12UHS</td>\n",
       "      <td></td>\n",
       "      <td>₹ 499,990</td>\n",
       "      <td>Windows 11 Home17.3\" (3840 x 2160)12th Gen Int...</td>\n",
       "    </tr>\n",
       "    <tr>\n",
       "      <th>2</th>\n",
       "      <td>3.Lenovo Legion 5i Pro</td>\n",
       "      <td>This laptop won our best performance award las...</td>\n",
       "      <td>₹ 218,000</td>\n",
       "      <td>Windows 11 Home16\" (2560 x 1600)12th Gen Intel...</td>\n",
       "    </tr>\n",
       "    <tr>\n",
       "      <th>3</th>\n",
       "      <td>4.ASUS ROG Strix Scar 18 2023</td>\n",
       "      <td></td>\n",
       "      <td>₹ 279,990</td>\n",
       "      <td>Windows 11 Home18\" (1920 x 1200)13th Gen Intel...</td>\n",
       "    </tr>\n",
       "    <tr>\n",
       "      <th>4</th>\n",
       "      <td>5.Acer Predator Helios Neo 16</td>\n",
       "      <td>This Lenovo Legion 5i Pro gaming laptop hits t...</td>\n",
       "      <td>₹ 149,990</td>\n",
       "      <td>Windows 11 Home16\" (2560 x 1600)13th Gen Intel...</td>\n",
       "    </tr>\n",
       "    <tr>\n",
       "      <th>5</th>\n",
       "      <td>6.ASUS ROG Zephyrus G14</td>\n",
       "      <td></td>\n",
       "      <td>₹ 156,990</td>\n",
       "      <td>Windows 11 Home14\" (1920 x 1200)AMD Ryzen 9-69...</td>\n",
       "    </tr>\n",
       "    <tr>\n",
       "      <th>6</th>\n",
       "      <td>7.MSI Cyborg 15</td>\n",
       "      <td>If a 17-inch display on a gaming laptop no lon...</td>\n",
       "      <td>₹ 130,990</td>\n",
       "      <td>Windows 11 Home15.6\" (1920 x 1080)12th Gen Int...</td>\n",
       "    </tr>\n",
       "  </tbody>\n",
       "</table>\n",
       "</div>"
      ],
      "text/plain": [
       "                      Brand_name  \\\n",
       "0            1.HP OMEN 17 (2023)   \n",
       "1         2.MSI Titan GT77 12UHS   \n",
       "2         3.Lenovo Legion 5i Pro   \n",
       "3  4.ASUS ROG Strix Scar 18 2023   \n",
       "4  5.Acer Predator Helios Neo 16   \n",
       "5        6.ASUS ROG Zephyrus G14   \n",
       "6                7.MSI Cyborg 15   \n",
       "\n",
       "                                         description      price  \\\n",
       "0  We tested the HP OMEN 17 2023 at our digit tes...  ₹ 269,777   \n",
       "1                                                     ₹ 499,990   \n",
       "2  This laptop won our best performance award las...  ₹ 218,000   \n",
       "3                                                     ₹ 279,990   \n",
       "4  This Lenovo Legion 5i Pro gaming laptop hits t...  ₹ 149,990   \n",
       "5                                                     ₹ 156,990   \n",
       "6  If a 17-inch display on a gaming laptop no lon...  ₹ 130,990   \n",
       "\n",
       "                                       specification  \n",
       "0  Windows 11 Home17.3\" (2560 x 1440)13th Gen Int...  \n",
       "1  Windows 11 Home17.3\" (3840 x 2160)12th Gen Int...  \n",
       "2  Windows 11 Home16\" (2560 x 1600)12th Gen Intel...  \n",
       "3  Windows 11 Home18\" (1920 x 1200)13th Gen Intel...  \n",
       "4  Windows 11 Home16\" (2560 x 1600)13th Gen Intel...  \n",
       "5  Windows 11 Home14\" (1920 x 1200)AMD Ryzen 9-69...  \n",
       "6  Windows 11 Home15.6\" (1920 x 1080)12th Gen Int...  "
      ]
     },
     "execution_count": 70,
     "metadata": {},
     "output_type": "execute_result"
    }
   ],
   "source": [
    "df = pd.DataFrame({\n",
    "    'Brand_name': Brands[0: 7], \n",
    "    'description': Products_Detail[0: 7],\n",
    "    'price' : Price[0: 7],\n",
    "    'specification': Specification[0: 7]\n",
    "})\n",
    "df"
   ]
  },
  {
   "cell_type": "markdown",
   "id": "901da090",
   "metadata": {},
   "source": [
    "# Question - 8\n",
    "\n"
   ]
  },
  {
   "cell_type": "code",
   "execution_count": 84,
   "id": "50f0ef9d",
   "metadata": {},
   "outputs": [],
   "source": [
    "driver = webdriver.Chrome('chromedriver.exe')\n",
    "url = \"https://www.forbes.com/billionaires/\"\n",
    "driver.get(url)\n",
    "time.sleep(3)"
   ]
  },
  {
   "cell_type": "code",
   "execution_count": 85,
   "id": "f1dc79f4",
   "metadata": {},
   "outputs": [],
   "source": [
    "#Creatng empty lists\n",
    "Rank = []\n",
    "Person_Name = []\n",
    "total_net_worth = []\n",
    "Age = []\n",
    "citizenship = []\n",
    "Source = []\n",
    "industry = []"
   ]
  },
  {
   "cell_type": "code",
   "execution_count": 86,
   "id": "b7309f8f",
   "metadata": {},
   "outputs": [],
   "source": [
    "while(True):\n",
    "    #Scraping the data of rank of the billionaires\n",
    "    rank_tags= driver.find_elements(By.XPATH,\"//div[@class='rank']\")\n",
    "    for rank in rank_tags:\n",
    "        Rank.append(rank.text)\n",
    "\n",
    "    \n",
    "    \n",
    "    #Scraping the data of names of the billionaires\n",
    "    name_tags= driver.find_elements(By.XPATH,\"//div[@class='personName']/div\")\n",
    "    for name in name_tags:\n",
    "        Person_Name.append(name.text)\n",
    "   \n",
    "    \n",
    "    \n",
    "    #Scraping data of age of the billionaires\n",
    "    age_tags= driver.find_elements(By.XPATH,\"//div[@class='age']/div\")\n",
    "    for age in age_tags:\n",
    "        Age.append(age.text)   \n",
    "\n",
    "    \n",
    "    \n",
    "    #Scraping data of citizenship of the billionaires\n",
    "    cit_tags= driver.find_elements(By.XPATH,\"//div[@class='countryOfCitizenship']\")\n",
    "    for cit in cit_tags:\n",
    "        citizenship.append(cit.text)\n",
    "\n",
    "    \n",
    "    \n",
    "    #Scraping data of source of income of the billionaires\n",
    "    sour_tags= driver.find_elements(By.XPATH,\"//div[@class='source']\")\n",
    "    for sour in sour_tags:\n",
    "        Source.append(sour.text)    \n",
    "\n",
    "    \n",
    "    \n",
    "    #Scraping data of Industry of the billionaires\n",
    "    ind_tags= driver.find_elements(By.XPATH,\"//div[@class='category']//div\")\n",
    "    for ind in ind_tags:\n",
    "        industry.append(ind.text)\n",
    "        \n",
    "        \n",
    "    #scraping data of net_worth of billionaires\n",
    "    net_tags= driver.find_elements(By.XPATH,\"//div[@class='netWorth']//div[1]\")\n",
    "    for net in net_tags:\n",
    "        total_net_worth.append(net.text)\n",
    "\n",
    "    \n",
    "    \n",
    "    #Clicking on next button\n",
    "    try:\n",
    "        next_button = driver.find_element(By.XPATH, \"//button[@class='pagination-btn pagination-btn--next ']\")\n",
    "        next_button.click()\n",
    "    except:\n",
    "        break\n",
    "        \n",
    "#Scraping data of net worth\n",
    "Net_Worth = []\n",
    "for i in range(0,len(total_net_worth),2):\n",
    "    Net_Worth.append(total_net_worth[i])\n"
   ]
  },
  {
   "cell_type": "code",
   "execution_count": 87,
   "id": "195ec297",
   "metadata": {},
   "outputs": [],
   "source": [
    "#Framing data\n",
    "df=pd.DataFrame({})\n",
    "df['Rank'] = Rank\n",
    "df['Names'] = Person_Name\n",
    "df['Net Worth'] = Net_Worth\n",
    "df['Age'] = Age\n",
    "df['Citizenship'] = citizenship\n",
    "df['Source'] = Source\n",
    "df['Industry'] = industry\n"
   ]
  },
  {
   "cell_type": "markdown",
   "id": "b39777f1",
   "metadata": {},
   "source": [
    "# Question - 9"
   ]
  },
  {
   "cell_type": "code",
   "execution_count": 88,
   "id": "aba4a746",
   "metadata": {},
   "outputs": [],
   "source": [
    "driver = webdriver.Chrome('chromedriver.exe')\n",
    "driver.get(url = \"https://www.youtube.com/\")"
   ]
  },
  {
   "cell_type": "code",
   "execution_count": 89,
   "id": "cb7c41ae",
   "metadata": {},
   "outputs": [],
   "source": [
    "#video url\n",
    "url=\"https://www.youtube.com/watch?v=f_vbAtFSEc0\"\n",
    "driver.get(url)\n"
   ]
  },
  {
   "cell_type": "code",
   "execution_count": 90,
   "id": "c7fcc374",
   "metadata": {},
   "outputs": [],
   "source": [
    "#scroll the webpage\n",
    "\n",
    "i=0\n",
    "while(i<100):\n",
    "    driver.execute_script(\"window.scrollBy(0,5000)\") # scroll down to get more comments\n",
    "    i+=1\n",
    "while(i<402):\n",
    "    driver.execute_script(\"window.scrollBy(0,10000)\") # scroll down to get more comments\n",
    "    i+=1"
   ]
  },
  {
   "cell_type": "code",
   "execution_count": 91,
   "id": "7763df46",
   "metadata": {},
   "outputs": [
    {
     "data": {
      "text/plain": [
       "290"
      ]
     },
     "execution_count": 91,
     "metadata": {},
     "output_type": "execute_result"
    }
   ],
   "source": [
    "#fetch comments tag\n",
    "\n",
    "com_tags=driver.find_elements(By.XPATH, '//span[@class=\"style-scope yt-formatted-string\"]')\n",
    "\n",
    "comments=[]\n",
    "\n",
    "for i in com_tags:\n",
    "    comments.append(i.text)\n",
    "len(comments)\n"
   ]
  },
  {
   "cell_type": "code",
   "execution_count": 92,
   "id": "0418fe56",
   "metadata": {},
   "outputs": [
    {
     "data": {
      "text/plain": [
       "180"
      ]
     },
     "execution_count": 92,
     "metadata": {},
     "output_type": "execute_result"
    }
   ],
   "source": [
    "upvote_tags=driver.find_elements(By.XPATH, '//span[@id=\"vote-count-middle\"]')\n",
    "\n",
    "upvotes=[]\n",
    "\n",
    "for i in upvote_tags:\n",
    "    try:\n",
    "        upvotes.append(i.text)\n",
    "    except:\n",
    "        upvotes.append('---')\n",
    "len(upvotes)"
   ]
  },
  {
   "cell_type": "code",
   "execution_count": 93,
   "id": "76aadbe6",
   "metadata": {},
   "outputs": [
    {
     "data": {
      "text/plain": [
       "209"
      ]
     },
     "execution_count": 93,
     "metadata": {},
     "output_type": "execute_result"
    }
   ],
   "source": [
    "ago_tags=driver.find_elements(By.XPATH, '//a[@class=\"yt-simple-endpoint style-scope yt-formatted-string\"]')\n",
    "\n",
    "ago=[]\n",
    "\n",
    "for i in ago_tags:\n",
    "    try:\n",
    "        ago.append(i.text)\n",
    "    except:\n",
    "        ago.append('---')\n",
    "len(ago)"
   ]
  },
  {
   "cell_type": "code",
   "execution_count": 94,
   "id": "a12f5968",
   "metadata": {},
   "outputs": [
    {
     "data": {
      "text/html": [
       "<div>\n",
       "<style scoped>\n",
       "    .dataframe tbody tr th:only-of-type {\n",
       "        vertical-align: middle;\n",
       "    }\n",
       "\n",
       "    .dataframe tbody tr th {\n",
       "        vertical-align: top;\n",
       "    }\n",
       "\n",
       "    .dataframe thead th {\n",
       "        text-align: right;\n",
       "    }\n",
       "</style>\n",
       "<table border=\"1\" class=\"dataframe\">\n",
       "  <thead>\n",
       "    <tr style=\"text-align: right;\">\n",
       "      <th></th>\n",
       "      <th>Comment</th>\n",
       "      <th>Upvotes</th>\n",
       "      <th>Time</th>\n",
       "    </tr>\n",
       "  </thead>\n",
       "  <tbody>\n",
       "    <tr>\n",
       "      <th>0</th>\n",
       "      <td></td>\n",
       "      <td>242</td>\n",
       "      <td>Pen Movies</td>\n",
       "    </tr>\n",
       "    <tr>\n",
       "      <th>1</th>\n",
       "      <td></td>\n",
       "      <td>7.9K</td>\n",
       "      <td></td>\n",
       "    </tr>\n",
       "    <tr>\n",
       "      <th>2</th>\n",
       "      <td>61,997</td>\n",
       "      <td>338</td>\n",
       "      <td></td>\n",
       "    </tr>\n",
       "    <tr>\n",
       "      <th>3</th>\n",
       "      <td>Comments</td>\n",
       "      <td>2.7K</td>\n",
       "      <td></td>\n",
       "    </tr>\n",
       "    <tr>\n",
       "      <th>4</th>\n",
       "      <td>Pinned by</td>\n",
       "      <td>15</td>\n",
       "      <td></td>\n",
       "    </tr>\n",
       "    <tr>\n",
       "      <th>5</th>\n",
       "      <td>Pen Movies</td>\n",
       "      <td>1.2K</td>\n",
       "      <td>9 months ago</td>\n",
       "    </tr>\n",
       "    <tr>\n",
       "      <th>6</th>\n",
       "      <td>Watch: Krack | New Released Full Hindi Dubbed ...</td>\n",
       "      <td>379</td>\n",
       "      <td>https://www.youtube.com/watch?v=eqT972wZ3ME</td>\n",
       "    </tr>\n",
       "    <tr>\n",
       "      <th>7</th>\n",
       "      <td></td>\n",
       "      <td>3K</td>\n",
       "      <td>1 year ago</td>\n",
       "    </tr>\n",
       "    <tr>\n",
       "      <th>8</th>\n",
       "      <td>Who Else is The Biggest Fan Of NTR &amp; Ramcharan</td>\n",
       "      <td>1.7K</td>\n",
       "      <td>3 months ago</td>\n",
       "    </tr>\n",
       "    <tr>\n",
       "      <th>9</th>\n",
       "      <td>Bollywood needs more actors Like NTR who doesn...</td>\n",
       "      <td>2.7K</td>\n",
       "      <td>1 year ago</td>\n",
       "    </tr>\n",
       "  </tbody>\n",
       "</table>\n",
       "</div>"
      ],
      "text/plain": [
       "                                             Comment Upvotes  \\\n",
       "0                                                        242   \n",
       "1                                                       7.9K   \n",
       "2                                             61,997     338   \n",
       "3                                           Comments    2.7K   \n",
       "4                                          Pinned by      15   \n",
       "5                                         Pen Movies    1.2K   \n",
       "6  Watch: Krack | New Released Full Hindi Dubbed ...     379   \n",
       "7                                                         3K   \n",
       "8    Who Else is The Biggest Fan Of NTR & Ramcharan     1.7K   \n",
       "9  Bollywood needs more actors Like NTR who doesn...    2.7K   \n",
       "\n",
       "                                          Time  \n",
       "0                                   Pen Movies  \n",
       "1                                               \n",
       "2                                               \n",
       "3                                               \n",
       "4                                               \n",
       "5                                 9 months ago  \n",
       "6  https://www.youtube.com/watch?v=eqT972wZ3ME  \n",
       "7                                   1 year ago  \n",
       "8                                 3 months ago  \n",
       "9                                   1 year ago  "
      ]
     },
     "execution_count": 94,
     "metadata": {},
     "output_type": "execute_result"
    }
   ],
   "source": [
    "# create dataframe\n",
    "\n",
    "df=pd.DataFrame()\n",
    "\n",
    "df['Comment']=comments[0: 10]\n",
    "df['Upvotes']=upvotes[0: 10]\n",
    "df['Time']=ago[0: 10]\n",
    "\n",
    "df.head(10)"
   ]
  },
  {
   "cell_type": "markdown",
   "id": "489abffd",
   "metadata": {},
   "source": [
    "# Question - 10"
   ]
  },
  {
   "cell_type": "code",
   "execution_count": 133,
   "id": "b023fea4",
   "metadata": {},
   "outputs": [],
   "source": [
    "driver = webdriver.Chrome('chromedriver.exe')\n"
   ]
  },
  {
   "cell_type": "code",
   "execution_count": 134,
   "id": "72fe7bbc",
   "metadata": {},
   "outputs": [],
   "source": [
    "# Getting the web page of mentioned url\n",
    "url = \"https://www.hostelworld.com/\"\n",
    "driver.get(url)\n",
    "time.sleep(5)"
   ]
  },
  {
   "cell_type": "code",
   "execution_count": 135,
   "id": "ce78f1b9",
   "metadata": {},
   "outputs": [],
   "source": [
    "driver.find_element(By.ID, 'location-text-input-field').click()\n",
    "time.sleep(5)\n",
    "driver.find_element(By.XPATH, '//*[@id=\"search-input-field\"]').send_keys('London')\n",
    "time.sleep(5)\n",
    "#click on search\n",
    "driver.find_element(By.XPATH,'//*[@id=\"predicted-search-results\"]/li[2]').click()\n",
    "driver.find_element(By.ID,'search-button').click()"
   ]
  },
  {
   "cell_type": "code",
   "execution_count": 136,
   "id": "1aa329b4",
   "metadata": {},
   "outputs": [],
   "source": [
    "hostel_name = []\n",
    "distance = []\n",
    "pvt_prices = []\n",
    "dorms_price = []\n",
    "rating = []\n",
    "reviews = []\n",
    "over_all = []\n",
    "facilities = []\n",
    "description =[]\n",
    "product_url=[]"
   ]
  },
  {
   "cell_type": "code",
   "execution_count": 138,
   "id": "5aee4588",
   "metadata": {},
   "outputs": [],
   "source": [
    "for i in driver.find_elements(By.XPATH, \"//div[@class = 'pagination-item pagination-current' or @class='pagination-item']\"):\n",
    "    i.click()\n",
    "    time.sleep(4)\n",
    "    #fetching hostel name\n",
    "    try:\n",
    "        name = driver.find_elements(By.XPATH,'//div[@class=\"property-name\"]')\n",
    "        for i in name:\n",
    "            hostel_name.append(i.text)\n",
    "    except NoSuchElementException:\n",
    "        hostel_name.append('-')\n",
    "    #fetching distance from city centre\n",
    "    \n",
    "    try:\n",
    "        dist = driver.find_elements(By.XPATH,'//span[@class=\"distance-description\"]')\n",
    "        for i in dist:\n",
    "            distance.append(i.text.replace('Hostel - ',''))\n",
    "    except NoSuchElementException:\n",
    "        distance.append('-')\n",
    "        \n",
    "    for i in driver.find_elements(By.XPATH,\"//div[@class='prices-col']\"):\n",
    "    #fetch privates from price\n",
    "        try:\n",
    "            pvt_price = driver.find_elements(By.XPATH,\"//a[@class='prices']//div[1]//div\")\n",
    "            pvt_prices.append(pvt_price.text)\n",
    "        except NoSuchElementException:\n",
    "            pvt_prices.append('-')\n",
    "    #fetching dorms from price\n",
    "    for i in driver.find_elements(By.XPATH,\"//div[@class='prices-col']\"):\n",
    "        try:\n",
    "            dorms = driver.find_element(By.XPATH,\"//a[@class='prices']//div[2]//div\")\n",
    "            dorms_price.append(dorms.text)\n",
    "        except NoSuchElementException:\n",
    "            dorms_price.append('-')\n",
    "            #fetching facilities\n",
    "    try:\n",
    "        fac1 = driver.find_elements(By.XPATH,\"//div[@class='has-wifi']\")\n",
    "        fac2 = driver.find_elements(By.XPATH,\"//div[@class='has-sanitation']\")\n",
    "        for i in fac1:\n",
    "            for j in fac2:\n",
    "                facilities.append(i.text +', '+ j.text )\n",
    "    except NoSuchElementException:\n",
    "        facilities.append('-')\n",
    "    #lets fetch url of each hostel\n",
    "    p_url = driver.find_elements(By.XPATH,\"//div[@class='prices-col']//a[2]\")\n",
    "    for i in p_url:\n",
    "        product_url.append(i.get_attribute('href'))\n",
    "\n",
    "for i in product_url:\n",
    "    driver.get(i)\n",
    "    time.sleep(3)\n",
    "    #lets click on show more button for description\n",
    "    try:\n",
    "        driver.find_element(By.XPATH,\"//a[@class='toggle-content']\").click()\n",
    "        time.sleep(5)\n",
    "    except NoSuchElementException:\n",
    "        pass\n",
    "    #fetching ratings\n",
    "    try:\n",
    "        rat = driver.find_element(By.XPATH,\"//div[@class='score orange big' or @class='score gray big']\")\n",
    "        rating.append(rat.text)\n",
    "    except NoSuchElementException:\n",
    "        rating.append('-')\n",
    "        \n",
    "    #fetching total reviews\n",
    "        \n",
    "    try:\n",
    "        rws = driver.find_elements(By.XPATH,\"//div[@class='reviews']\")\n",
    "        reviews.append(rws.text.replace('Total Reviews',''))\n",
    "    except NoSuchElementException:\n",
    "        reviews.append('-')\n",
    "        #fetch overall review\n",
    "    try:\n",
    "        overall_rw = driver.find_elements(By.XPATH,\"//div[@class='keyword']//span\")\n",
    "        over_all.append(overall_rw.text)\n",
    "    except NoSuchElementException:\n",
    "        over_all.append('-')\n",
    "    #fetch property description \n",
    "    try:\n",
    "        disc = driver.find_elements(By.XPATH,\"//div[@class='content']\")\n",
    "        description.append(disc.text)\n",
    "    except NoSuchElementException:\n",
    "        over_all.append('-')"
   ]
  },
  {
   "cell_type": "code",
   "execution_count": 139,
   "id": "f57672b8",
   "metadata": {},
   "outputs": [],
   "source": [
    "hostel_name = hostel_name[0:81]\n",
    "distance = distance[0:81]\n",
    "pvt_prices = pvt_prices[0:81]\n",
    "dorms_price = dorms_price[0:81]\n",
    "rating = rating[0:81]\n",
    "reviews = reviews[0:81]\n",
    "over_all = over_all[0:81]\n",
    "facilities = facilities[0:81]\n",
    "description =description[0:81]\n",
    "product_url = product_url[0:81]"
   ]
  },
  {
   "cell_type": "code",
   "execution_count": 140,
   "id": "986a1849",
   "metadata": {},
   "outputs": [],
   "source": [
    "df = pd.DataFrame({})\n",
    "df['Hostel_Name'] = hostel_name\n",
    "df['Distance fron city centre'] = distance\n",
    "df['Ratings'] = rating\n",
    "df['Total_reviews'] = reviews\n",
    "df['Overall Reviews'] = over_all\n",
    "df['Privates from price'] = pvt_prices\n",
    "df['Dorms from price'] = dorms_price\n",
    "df['Description'] = description"
   ]
  },
  {
   "cell_type": "code",
   "execution_count": null,
   "id": "1ac84b93",
   "metadata": {},
   "outputs": [],
   "source": []
  },
  {
   "cell_type": "code",
   "execution_count": null,
   "id": "cb72135b",
   "metadata": {},
   "outputs": [],
   "source": []
  },
  {
   "cell_type": "code",
   "execution_count": null,
   "id": "d65e4e14",
   "metadata": {},
   "outputs": [],
   "source": []
  },
  {
   "cell_type": "code",
   "execution_count": null,
   "id": "518eb9a4",
   "metadata": {},
   "outputs": [],
   "source": []
  }
 ],
 "metadata": {
  "kernelspec": {
   "display_name": "Python 3 (ipykernel)",
   "language": "python",
   "name": "python3"
  },
  "language_info": {
   "codemirror_mode": {
    "name": "ipython",
    "version": 3
   },
   "file_extension": ".py",
   "mimetype": "text/x-python",
   "name": "python",
   "nbconvert_exporter": "python",
   "pygments_lexer": "ipython3",
   "version": "3.9.13"
  }
 },
 "nbformat": 4,
 "nbformat_minor": 5
}
